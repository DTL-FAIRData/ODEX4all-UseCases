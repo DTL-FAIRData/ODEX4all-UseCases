{
 "cells": [
  {
   "cell_type": "markdown",
   "metadata": {},
   "source": [
    "\n",
    "## Objective: To identify genotype-phenotype trait association in Rice\n",
    "### Develop a workflow to identify genes indirectly associated with rice traits (Grain Size, Grain number etc) using EKP and visualize them in an interactive knowledge graph."
   ]
  },
  {
   "cell_type": "markdown",
   "metadata": {},
   "source": [
    "## Load necessary libraries"
   ]
  },
  {
   "cell_type": "code",
   "execution_count": 22,
   "metadata": {
    "collapsed": false
   },
   "outputs": [],
   "source": [
    "library(dplyr)\n",
    "library(tidyr)\n",
    "library(sqldf)\n",
    "library(splitstackshape)\n",
    "library(stringr)\n",
    "library(compare)"
   ]
  },
  {
   "cell_type": "markdown",
   "metadata": {},
   "source": [
    "\n",
    "## Set working environment and load EKP api"
   ]
  },
  {
   "cell_type": "code",
   "execution_count": 23,
   "metadata": {
    "collapsed": false
   },
   "outputs": [
    {
     "name": "stdout",
     "output_type": "stream",
     "text": [
      "\n"
     ]
    },
    {
     "name": "stderr",
     "output_type": "stream",
     "text": [
      "Retrieving page 0\n",
      "Retrieving page 1\n",
      "Retrieving page 2\n",
      "Retrieving page 3\n",
      "Retrieving page 4\n",
      "Retrieving page 5\n",
      "Retrieving page 6\n",
      "Retrieving page 7\n",
      "Retrieving page 8\n",
      "Retrieving page 9\n",
      "Retrieving page 10\n",
      "Retrieving page 11\n"
     ]
    }
   ],
   "source": [
    "setwd(\"~/ODEX4all-UseCases/Bayer/data\")\n",
    "\n",
    "source(\"..//src/EuretosInfrastructure.R\")\n",
    "options(warn=-1)"
   ]
  },
  {
   "cell_type": "markdown",
   "metadata": {},
   "source": [
    "\n",
    "### Load selected genes from Qtaro database found at qtaro.abr.affrc.go.jp/qtab/table"
   ]
  },
  {
   "cell_type": "code",
   "execution_count": 24,
   "metadata": {
    "collapsed": true
   },
   "outputs": [],
   "source": [
    "rice_genes <-read.csv(\"GeneInformationTable_Qtaro_Selected.csv\",header=TRUE)\n"
   ]
  },
  {
   "cell_type": "markdown",
   "metadata": {},
   "source": [
    "#### Here we consider only the following morphological trait as specified in the input provided\n",
    "#### \"grain size\" (EKP concept id : 5899980)\n",
    "#### \"grain thickness\" (EKP concept id  :5900661)\n",
    "#### \"grain number\" (EKP concept id (rice specific) :4343608)\n",
    "#### \"kernel number\" (EKP concept id:5900190)\n",
    "#### \"GRNB\" (EKP concept:5900394)\n",
    "#### \"fruit number\" (EKP concept:5900077)\n",
    "#### \"grain number per plant\" (EKP concept (exact): 5900828)\n",
    "#### \"GN\" (EKP concept:(vague many hits within EKP))\n",
    "\n"
   ]
  },
  {
   "cell_type": "markdown",
   "metadata": {},
   "source": [
    "### Load rice genes"
   ]
  },
  {
   "cell_type": "code",
   "execution_count": 25,
   "metadata": {
    "collapsed": false
   },
   "outputs": [
    {
     "data": {
      "text/html": [
       "<table>\n",
       "<thead><tr><th scope=col>locus_id</th></tr></thead>\n",
       "<tbody>\n",
       "\t<tr><td>loc4325145  </td></tr>\n",
       "\t<tr><td>loc4336431  </td></tr>\n",
       "\t<tr><td>os02g0630300</td></tr>\n",
       "\t<tr><td>loc4324691  </td></tr>\n",
       "\t<tr><td>loc4335790  </td></tr>\n",
       "\t<tr><td>loc4338448  </td></tr>\n",
       "</tbody>\n",
       "</table>\n"
      ],
      "text/latex": [
       "\\begin{tabular}{r|l}\n",
       " locus\\_id\\\\\n",
       "\\hline\n",
       "\t loc4325145  \\\\\n",
       "\t loc4336431  \\\\\n",
       "\t os02g0630300\\\\\n",
       "\t loc4324691  \\\\\n",
       "\t loc4335790  \\\\\n",
       "\t loc4338448  \\\\\n",
       "\\end{tabular}\n"
      ],
      "text/markdown": [
       "\n",
       "locus_id | \n",
       "|---|---|---|---|---|---|\n",
       "| loc4325145   | \n",
       "| loc4336431   | \n",
       "| os02g0630300 | \n",
       "| loc4324691   | \n",
       "| loc4335790   | \n",
       "| loc4338448   | \n",
       "\n",
       "\n"
      ],
      "text/plain": [
       "  locus_id    \n",
       "1 loc4325145  \n",
       "2 loc4336431  \n",
       "3 os02g0630300\n",
       "4 loc4324691  \n",
       "5 loc4335790  \n",
       "6 loc4338448  "
      ]
     },
     "metadata": {},
     "output_type": "display_data"
    }
   ],
   "source": [
    "head(rice_genes)"
   ]
  },
  {
   "cell_type": "markdown",
   "metadata": {},
   "source": [
    "## Step 1a : Get the starting concept identifiers for genes"
   ]
  },
  {
   "cell_type": "code",
   "execution_count": 26,
   "metadata": {
    "collapsed": false
   },
   "outputs": [
    {
     "name": "stdout",
     "output_type": "stream",
     "text": [
      "\n",
      "\n",
      "\n",
      "\n",
      "\n",
      "\n",
      "\n",
      "\n",
      "\n"
     ]
    }
   ],
   "source": [
    "start<-getConceptID(rice_genes[,\"locus_id\"])\n",
    "start<-start[,\"EKP_Concept_Id\"]"
   ]
  },
  {
   "cell_type": "code",
   "execution_count": 27,
   "metadata": {
    "collapsed": false
   },
   "outputs": [
    {
     "data": {
      "text/html": [
       "<ol class=list-inline>\n",
       "\t<li>'3939406'</li>\n",
       "\t<li>'3943638'</li>\n",
       "\t<li>'7191380'</li>\n",
       "\t<li>'3940353'</li>\n",
       "\t<li>'3942413'</li>\n",
       "\t<li>'3941570'</li>\n",
       "</ol>\n"
      ],
      "text/latex": [
       "\\begin{enumerate*}\n",
       "\\item '3939406'\n",
       "\\item '3943638'\n",
       "\\item '7191380'\n",
       "\\item '3940353'\n",
       "\\item '3942413'\n",
       "\\item '3941570'\n",
       "\\end{enumerate*}\n"
      ],
      "text/markdown": [
       "1. '3939406'\n",
       "2. '3943638'\n",
       "3. '7191380'\n",
       "4. '3940353'\n",
       "5. '3942413'\n",
       "6. '3941570'\n",
       "\n",
       "\n"
      ],
      "text/plain": [
       "[1] \"3939406\" \"3943638\" \"7191380\" \"3940353\" \"3942413\" \"3941570\""
      ]
     },
     "metadata": {},
     "output_type": "display_data"
    }
   ],
   "source": [
    "head(start)"
   ]
  },
  {
   "cell_type": "markdown",
   "metadata": {},
   "source": [
    "## Step 1b: Get the ending concept identifiers for  traits"
   ]
  },
  {
   "cell_type": "code",
   "execution_count": 28,
   "metadata": {
    "collapsed": true
   },
   "outputs": [],
   "source": [
    "traits<-c(\"TO:0000590\",\"TO:0000382\",\"TO:0000396\",\"TO:0000397\",\"TO:0000734\",\"TO:0000402\",\"TO:0002759\",\"TO:0000447\")\n"
   ]
  },
  {
   "cell_type": "markdown",
   "metadata": {},
   "source": [
    "### Get Trait ekp ids for ending concepts "
   ]
  },
  {
   "cell_type": "code",
   "execution_count": 29,
   "metadata": {
    "collapsed": false
   },
   "outputs": [
    {
     "name": "stdout",
     "output_type": "stream",
     "text": [
      "\n",
      "\n",
      "\n",
      "\n",
      "\n",
      "\n",
      "\n",
      "\n"
     ]
    },
    {
     "data": {
      "text/html": [
       "<table>\n",
       "<thead><tr><th scope=col>TOid</th><th scope=col>TOEKPid</th><th scope=col>TOContentName</th></tr></thead>\n",
       "<tbody>\n",
       "\t<tr><td>TO:0000590           </td><td>5899973              </td><td>dehulled grain weight</td></tr>\n",
       "\t<tr><td>TO:0000382           </td><td>5900098              </td><td>1000-seed weight     </td></tr>\n",
       "\t<tr><td>TO:0000396           </td><td>5900965              </td><td>grain yield trait    </td></tr>\n",
       "\t<tr><td>TO:0000397           </td><td>5899980              </td><td>grain size           </td></tr>\n",
       "\t<tr><td>TO:0000734           </td><td>5900194              </td><td>grain length         </td></tr>\n",
       "\t<tr><td>TO:0000402           </td><td>5899965              </td><td>grain width          </td></tr>\n",
       "</tbody>\n",
       "</table>\n"
      ],
      "text/latex": [
       "\\begin{tabular}{lll}\n",
       " TOid & TOEKPid & TOContentName\\\\\n",
       "\\hline\n",
       "\t TO:0000590            & 5899973               & dehulled grain weight\\\\\n",
       "\t TO:0000382            & 5900098               & 1000-seed weight     \\\\\n",
       "\t TO:0000396            & 5900965               & grain yield trait    \\\\\n",
       "\t TO:0000397            & 5899980               & grain size           \\\\\n",
       "\t TO:0000734            & 5900194               & grain length         \\\\\n",
       "\t TO:0000402            & 5899965               & grain width          \\\\\n",
       "\\end{tabular}\n"
      ],
      "text/markdown": [
       "\n",
       "TOid | TOEKPid | TOContentName | \n",
       "|---|---|---|---|---|---|\n",
       "| TO:0000590            | 5899973               | dehulled grain weight | \n",
       "| TO:0000382            | 5900098               | 1000-seed weight      | \n",
       "| TO:0000396            | 5900965               | grain yield trait     | \n",
       "| TO:0000397            | 5899980               | grain size            | \n",
       "| TO:0000734            | 5900194               | grain length          | \n",
       "| TO:0000402            | 5899965               | grain width           | \n",
       "\n",
       "\n"
      ],
      "text/plain": [
       "     TOid       TOEKPid TOContentName        \n",
       "[1,] TO:0000590 5899973 dehulled grain weight\n",
       "[2,] TO:0000382 5900098 1000-seed weight     \n",
       "[3,] TO:0000396 5900965 grain yield trait    \n",
       "[4,] TO:0000397 5899980 grain size           \n",
       "[5,] TO:0000734 5900194 grain length         \n",
       "[6,] TO:0000402 5899965 grain width          "
      ]
     },
     "metadata": {},
     "output_type": "display_data"
    }
   ],
   "source": [
    "end<-NULL\n",
    "for (i in 1:length(traits)){\n",
    "  tmp <- getTraitEKPID(traits[i])\n",
    "  tmpContent<-cbind(traits[i],tmp)\n",
    "  end<-rbind(end,tmpContent)\n",
    "}\n",
    "end<-end[,c(2,3,4)]\n",
    "colnames(end)<-c(\"TOid\",\"TOEKPid\",\"TOContentName\")\n",
    "\n",
    "head(end)"
   ]
  },
  {
   "cell_type": "markdown",
   "metadata": {},
   "source": [
    "### Step 2a: Get indirect relationship for connected traits\n",
    "### for the traits that exists within EKP and save intermediate results"
   ]
  },
  {
   "cell_type": "code",
   "execution_count": 30,
   "metadata": {
    "collapsed": false
   },
   "outputs": [
    {
     "name": "stdout",
     "output_type": "stream",
     "text": [
      "\n",
      "\n",
      "\n",
      "\n",
      "\n",
      "\n",
      "\n",
      "\n",
      "\n",
      "\n",
      "\n",
      "\n",
      "\n",
      "\n",
      "\n",
      "\n",
      "\n",
      "\n",
      "\n",
      "\n",
      "\n",
      "\n",
      "\n",
      "\n",
      "\n",
      "\n",
      "\n"
     ]
    }
   ],
   "source": [
    "genes2Trait<-getIndirectRelation(start,end[c(3,7,8),\"TOEKPid\"])\n",
    "save(genes2Trait, file = \"genes2Trait.rda\")\n"
   ]
  },
  {
   "cell_type": "markdown",
   "metadata": {},
   "source": [
    "### Step 2b: Get Indirect relationships for \"Trait Neighbours\"(end) and save intermediate results"
   ]
  },
  {
   "cell_type": "code",
   "execution_count": 31,
   "metadata": {
    "collapsed": false
   },
   "outputs": [
    {
     "name": "stdout",
     "output_type": "stream",
     "text": [
      "\n",
      "\n",
      "\n",
      "\n",
      "\n",
      "\n",
      "\n",
      "\n",
      "\n",
      "\n",
      "\n",
      "\n",
      "\n",
      "\n",
      "\n",
      "\n",
      "\n",
      "\n",
      "\n",
      "\n",
      "\n",
      "\n",
      "\n",
      "\n",
      "\n",
      "\n",
      "\n"
     ]
    }
   ],
   "source": [
    "neig<-read.csv(\"NeighbouringTraitEKPid.csv\",stringsAsFactors = FALSE,header=TRUE)\n",
    "genes2TraitNeighbours<-getIndirectRelation(start,end[c(3,7,8),\"TOEKPid\"])\n",
    "save(genes2TraitNeighbours, file = \"genes2TraitNeighbours.rda\")\n"
   ]
  },
  {
   "cell_type": "markdown",
   "metadata": {},
   "source": [
    "### Step 2c: Now get the relationship between Traits and their Neighbours and save intermediate results\n"
   ]
  },
  {
   "cell_type": "code",
   "execution_count": 32,
   "metadata": {
    "collapsed": false
   },
   "outputs": [
    {
     "name": "stdout",
     "output_type": "stream",
     "text": [
      "\n",
      "\n",
      "\n",
      "\n",
      "\n",
      "\n",
      "\n",
      "\n",
      "\n",
      "\n",
      "\n",
      "\n",
      "\n",
      "\n",
      "\n",
      "\n",
      "\n",
      "\n",
      "\n",
      "\n",
      "\n",
      "\n",
      "\n",
      "\n",
      "\n",
      "\n",
      "\n",
      "\n",
      "\n",
      "\n",
      "\n",
      "\n",
      "\n",
      "\n",
      "\n",
      "\n",
      "\n",
      "\n",
      "\n",
      "\n",
      "\n",
      "\n",
      "\n",
      "\n",
      "\n",
      "\n",
      "\n",
      "\n",
      "\n",
      "\n",
      "\n",
      "\n",
      "\n",
      "\n",
      "\n",
      "\n",
      "\n",
      "\n",
      "\n",
      "\n",
      "\n",
      "\n",
      "\n",
      "\n",
      "\n",
      "\n",
      "\n",
      "\n",
      "\n",
      "\n",
      "\n",
      "\n",
      "\n",
      "\n",
      "\n",
      "\n",
      "\n",
      "\n",
      "\n",
      "\n",
      "\n",
      "\n",
      "\n",
      "\n",
      "\n",
      "\n",
      "\n",
      "\n",
      "\n",
      "\n",
      "\n",
      "\n",
      "\n",
      "\n",
      "\n",
      "\n",
      "\n",
      "\n",
      "\n",
      "\n",
      "\n",
      "\n",
      "\n",
      "\n",
      "\n",
      "\n",
      "\n",
      "\n",
      "\n",
      "\n",
      "\n",
      "\n",
      "\n",
      "\n",
      "\n",
      "\n",
      "\n",
      "\n",
      "\n",
      "\n",
      "\n",
      "\n",
      "\n",
      "\n",
      "\n",
      "\n",
      "\n",
      "\n",
      "\n",
      "\n",
      "\n",
      "\n",
      "\n",
      "\n",
      "\n",
      "\n",
      "\n",
      "\n",
      "\n",
      "\n",
      "\n",
      "\n",
      "\n",
      "\n",
      "\n",
      "\n",
      "\n",
      "\n",
      "\n",
      "\n",
      "\n",
      "\n",
      "\n",
      "\n",
      "\n",
      "\n",
      "\n",
      "\n",
      "\n",
      "\n",
      "\n",
      "\n",
      "\n",
      "\n",
      "\n",
      "\n",
      "\n",
      "\n",
      "\n",
      "\n",
      "\n",
      "\n",
      "\n",
      "\n",
      "\n",
      "\n",
      "\n",
      "\n",
      "\n",
      "\n",
      "\n",
      "\n",
      "\n",
      "\n",
      "\n",
      "\n",
      "\n",
      "\n",
      "\n",
      "\n",
      "\n",
      "\n",
      "\n",
      "\n",
      "\n",
      "\n",
      "\n",
      "\n",
      "\n",
      "\n",
      "\n",
      "\n",
      "\n",
      "\n",
      "\n",
      "\n",
      "\n",
      "\n",
      "\n",
      "\n",
      "\n",
      "\n",
      "\n",
      "\n",
      "\n",
      "\n",
      "\n",
      "\n",
      "\n",
      "\n",
      "\n",
      "\n",
      "\n",
      "\n",
      "\n",
      "\n",
      "\n",
      "\n",
      "\n",
      "\n",
      "\n",
      "\n",
      "\n",
      "\n",
      "\n",
      "\n",
      "\n",
      "\n",
      "\n",
      "\n",
      "\n",
      "\n",
      "\n",
      "\n",
      "\n",
      "\n",
      "\n",
      "\n",
      "\n",
      "\n",
      "\n",
      "\n",
      "\n",
      "\n",
      "\n",
      "\n",
      "\n",
      "\n",
      "\n",
      "\n",
      "\n",
      "\n",
      "\n",
      "\n",
      "\n",
      "\n",
      "\n",
      "\n",
      "\n",
      "\n",
      "\n",
      "\n",
      "\n",
      "\n",
      "\n",
      "\n",
      "\n",
      "\n",
      "\n",
      "\n",
      "\n",
      "\n",
      "\n",
      "\n",
      "\n",
      "\n",
      "\n",
      "\n",
      "\n",
      "\n",
      "\n",
      "\n",
      "\n",
      "\n",
      "\n",
      "\n",
      "\n",
      "\n",
      "\n",
      "\n",
      "\n",
      "\n",
      "\n",
      "\n",
      "\n",
      "\n",
      "\n",
      "\n",
      "\n",
      "\n",
      "\n",
      "\n",
      "\n",
      "\n",
      "\n",
      "\n",
      "\n",
      "\n",
      "\n",
      "\n",
      "\n",
      "\n",
      "\n",
      "\n",
      "\n",
      "\n",
      "\n",
      "\n",
      "\n",
      "\n",
      "\n",
      "\n",
      "\n",
      "\n",
      "\n",
      "\n",
      "\n",
      "\n",
      "\n",
      "\n",
      "\n",
      "\n",
      "\n",
      "\n",
      "\n",
      "\n",
      "\n",
      "\n",
      "\n",
      "\n",
      "\n",
      "\n",
      "\n",
      "\n",
      "\n",
      "\n",
      "\n",
      "\n",
      "\n",
      "\n",
      "\n",
      "\n",
      "\n",
      "\n",
      "\n",
      "\n",
      "\n",
      "\n",
      "\n",
      "\n",
      "\n",
      "\n",
      "\n",
      "\n",
      "\n",
      "\n",
      "\n",
      "\n",
      "\n",
      "\n",
      "\n",
      "\n",
      "\n",
      "\n",
      "\n",
      "\n",
      "\n",
      "\n",
      "\n",
      "\n",
      "\n",
      "\n",
      "\n",
      "\n",
      "\n",
      "\n",
      "\n",
      "\n",
      "\n",
      "\n",
      "\n",
      "\n",
      "\n",
      "\n",
      "\n",
      "\n",
      "\n",
      "\n",
      "\n",
      "\n",
      "\n",
      "\n",
      "\n",
      "\n",
      "\n",
      "\n",
      "\n",
      "\n",
      "\n",
      "\n",
      "\n",
      "\n",
      "\n",
      "\n",
      "\n",
      "\n",
      "\n",
      "\n",
      "\n",
      "\n",
      "\n",
      "\n",
      "\n",
      "\n",
      "\n",
      "\n",
      "\n",
      "\n",
      "\n",
      "\n",
      "\n",
      "\n",
      "\n",
      "\n",
      "\n",
      "\n",
      "\n",
      "\n",
      "\n",
      "\n",
      "\n",
      "\n",
      "\n",
      "\n",
      "\n",
      "\n",
      "\n",
      "\n",
      "\n",
      "\n",
      "\n",
      "\n",
      "\n",
      "\n",
      "\n",
      "\n",
      "\n",
      "\n",
      "\n",
      "\n",
      "\n",
      "\n",
      "\n",
      "\n",
      "\n",
      "\n",
      "\n",
      "\n",
      "\n",
      "\n",
      "\n",
      "\n",
      "\n",
      "\n",
      "\n",
      "\n",
      "\n",
      "\n",
      "\n",
      "\n",
      "\n",
      "\n",
      "\n",
      "\n",
      "\n",
      "\n",
      "\n",
      "\n",
      "\n",
      "\n",
      "\n",
      "\n",
      "\n",
      "\n",
      "\n",
      "\n",
      "\n",
      "\n",
      "\n",
      "\n",
      "\n",
      "\n",
      "\n",
      "\n",
      "\n",
      "\n",
      "\n",
      "\n",
      "\n",
      "\n",
      "\n",
      "\n",
      "\n",
      "\n",
      "\n",
      "\n",
      "\n",
      "\n",
      "\n",
      "\n",
      "\n",
      "\n",
      "\n",
      "\n",
      "\n",
      "\n"
     ]
    }
   ],
   "source": [
    "Trait2TraitNeighbours<-getIndirectRelation(unique(neig[,1]),unique(neig[,2]))\n",
    "save(Trait2TraitNeighbours, file = \"Trait2TraitNeighbours.rda\")\n"
   ]
  },
  {
   "cell_type": "markdown",
   "metadata": {},
   "source": [
    "### Step 2d: Get Direct relationship between genes and traits and save intermediate results\n"
   ]
  },
  {
   "cell_type": "code",
   "execution_count": 33,
   "metadata": {
    "collapsed": false
   },
   "outputs": [
    {
     "name": "stdout",
     "output_type": "stream",
     "text": [
      "\n",
      "\n",
      "\n",
      "\n",
      "\n",
      "\n",
      "\n",
      "\n",
      "\n",
      "\n",
      "\n",
      "\n",
      "\n",
      "\n",
      "\n",
      "\n",
      "\n",
      "\n",
      "\n",
      "\n",
      "\n",
      "\n",
      "\n",
      "\n",
      "\n",
      "\n",
      "\n",
      "\n",
      "\n",
      "\n",
      "\n",
      "\n",
      "\n",
      "\n",
      "\n",
      "\n",
      "\n",
      "\n",
      "\n",
      "\n",
      "\n",
      "\n",
      "\n",
      "\n",
      "\n",
      "\n",
      "\n",
      "\n",
      "\n",
      "\n",
      "\n",
      "\n",
      "\n",
      "\n",
      "\n",
      "\n",
      "\n",
      "\n",
      "\n",
      "\n",
      "\n",
      "\n",
      "\n",
      "\n",
      "\n",
      "\n",
      "\n",
      "\n",
      "\n",
      "\n",
      "\n",
      "\n"
     ]
    }
   ],
   "source": [
    "genes2TraitsDirect<-getIndirectRelation(start,end[,\"TOEKPid\"])\n",
    "save(genes2TraitsDirect, file = \"genes2TraitsDirect.rda\")\n"
   ]
  },
  {
   "cell_type": "markdown",
   "metadata": {},
   "source": [
    "### Step 3: Combine the results together"
   ]
  },
  {
   "cell_type": "code",
   "execution_count": 39,
   "metadata": {
    "collapsed": false
   },
   "outputs": [],
   "source": [
    "load(\"genes2Trait.rda\")\n",
    "load(\"genes2TraitNeighbours.rda\")\n",
    "load(\"Traits_and_their_neighbours.rda\")\n",
    "load(\"genes2TraitsDirect.rda\")\n",
    "\n",
    "genes2Trait<-as.matrix(getTableFromJson(genes2Trait))\n",
    "\n",
    "\n",
    "genes2TraitNeighbours<-as.matrix(getTableFromJson(genes2TraitNeighbours))\n",
    "\n",
    "Traits_and_their_neighbours<-as.matrix(getTableFromJson(a))\n",
    "\n",
    "genes2TraitsDirect <- as.matrix(getTableFromJson(genes2TraitsDirect))\n",
    "\n",
    "\n",
    "\n",
    "dfs<-data.frame(unique(rbind(genes2Trait,genes2TraitNeighbours,Traits_and_their_neighbours,genes2TraitsDirect)))"
   ]
  },
  {
   "cell_type": "code",
   "execution_count": 44,
   "metadata": {
    "collapsed": false
   },
   "outputs": [
    {
     "data": {
      "text/html": [
       "<table>\n",
       "<thead><tr><th scope=col>Subject</th><th scope=col>Predicate</th><th scope=col>Object</th><th scope=col>Publications</th><th scope=col>Score</th></tr></thead>\n",
       "<tbody>\n",
       "\t<tr><td>3940353  </td><td>10773543 </td><td>5900965  </td><td>182653814</td><td>7.0512   </td></tr>\n",
       "\t<tr><td>5900965  </td><td>10773540 </td><td>5900394  </td><td>232227983</td><td>7.0512   </td></tr>\n",
       "\t<tr><td>3942413  </td><td>10773543 </td><td>5900965  </td><td>182655606</td><td>6.9721   </td></tr>\n",
       "\t<tr><td>5900965  </td><td>10773540 </td><td>5900394  </td><td>232227983</td><td>6.9721   </td></tr>\n",
       "\t<tr><td>7190948  </td><td>10773543 </td><td>5900394  </td><td>232226800</td><td>4.9542   </td></tr>\n",
       "\t<tr><td>5900394  </td><td>10773540 </td><td>5900594  </td><td>214510142</td><td>4.9542   </td></tr>\n",
       "</tbody>\n",
       "</table>\n"
      ],
      "text/latex": [
       "\\begin{tabular}{r|lllll}\n",
       " Subject & Predicate & Object & Publications & Score\\\\\n",
       "\\hline\n",
       "\t 3940353   & 10773543  & 5900965   & 182653814 & 7.0512   \\\\\n",
       "\t 5900965   & 10773540  & 5900394   & 232227983 & 7.0512   \\\\\n",
       "\t 3942413   & 10773543  & 5900965   & 182655606 & 6.9721   \\\\\n",
       "\t 5900965   & 10773540  & 5900394   & 232227983 & 6.9721   \\\\\n",
       "\t 7190948   & 10773543  & 5900394   & 232226800 & 4.9542   \\\\\n",
       "\t 5900394   & 10773540  & 5900594   & 214510142 & 4.9542   \\\\\n",
       "\\end{tabular}\n"
      ],
      "text/markdown": [
       "\n",
       "Subject | Predicate | Object | Publications | Score | \n",
       "|---|---|---|---|---|---|\n",
       "| 3940353   | 10773543  | 5900965   | 182653814 | 7.0512    | \n",
       "| 5900965   | 10773540  | 5900394   | 232227983 | 7.0512    | \n",
       "| 3942413   | 10773543  | 5900965   | 182655606 | 6.9721    | \n",
       "| 5900965   | 10773540  | 5900394   | 232227983 | 6.9721    | \n",
       "| 7190948   | 10773543  | 5900394   | 232226800 | 4.9542    | \n",
       "| 5900394   | 10773540  | 5900594   | 214510142 | 4.9542    | \n",
       "\n",
       "\n"
      ],
      "text/plain": [
       "  Subject Predicate Object  Publications Score \n",
       "1 3940353 10773543  5900965 182653814    7.0512\n",
       "2 5900965 10773540  5900394 232227983    7.0512\n",
       "3 3942413 10773543  5900965 182655606    6.9721\n",
       "4 5900965 10773540  5900394 232227983    6.9721\n",
       "5 7190948 10773543  5900394 232226800    4.9542\n",
       "6 5900394 10773540  5900594 214510142    4.9542"
      ]
     },
     "metadata": {},
     "output_type": "display_data"
    }
   ],
   "source": [
    "head(dfs)"
   ]
  },
  {
   "cell_type": "markdown",
   "metadata": {},
   "source": [
    "\n",
    "### Step 4: Map human redable triples from the reference database \n",
    "### reference list is collected from EKP"
   ]
  },
  {
   "cell_type": "code",
   "execution_count": 36,
   "metadata": {
    "collapsed": false
   },
   "outputs": [
    {
     "name": "stdout",
     "output_type": "stream",
     "text": [
      "\n",
      "\n",
      "\n",
      "\n",
      "\n",
      "\n",
      "\n",
      "\n",
      "\n",
      "\n",
      "\n",
      "\n",
      "\n",
      "\n",
      "\n",
      "\n",
      "\n",
      "\n",
      "\n",
      "\n",
      "\n",
      "\n",
      "\n",
      "\n",
      "\n",
      "\n",
      "\n",
      "\n",
      "\n",
      "\n",
      "\n",
      "\n",
      "\n",
      "\n",
      "\n",
      "\n",
      "\n",
      "\n",
      "\n",
      "\n",
      "\n",
      "\n",
      "\n",
      "\n"
     ]
    },
    {
     "name": "stderr",
     "output_type": "stream",
     "text": [
      "Loading required package: tcltk\n"
     ]
    },
    {
     "name": "stdout",
     "output_type": "stream",
     "text": [
      "\n",
      "\n",
      "\n",
      "\n",
      "\n",
      "\n",
      "\n",
      "\n",
      "\n",
      "\n",
      "\n",
      "\n",
      "\n",
      "\n",
      "\n",
      "\n",
      "\n",
      "\n",
      "\n",
      "\n",
      "\n",
      "\n"
     ]
    }
   ],
   "source": [
    "pred<-read.csv(\"Reference_Predicate_List.csv\",header=TRUE)\n",
    "pred<-pred[,c(2,3)]\n",
    "colnames(pred)<-c(\"pred\",\"names\")\n",
    "\n",
    "\n",
    "subject_name<-getConceptName(dfs[,\"Subject\"])\n",
    "dfs<-cbind(dfs,subject_name[,1])\n",
    "\n",
    "object_name<-getConceptName(dfs[,\"Object\"])\n",
    "dfs<-cbind(dfs,object_name[,1])\n",
    "\n",
    "predicate_name<-sqldf('select * from dfs left join pred on pred.pred=dfs.Predicate')\n",
    "\n",
    "pbs<-getPubMedId(dfs$Publications)\n",
    "\n",
    "tripleName<-cbind(subject_name,as.character(predicate_name[,\"names\"]),object_name,pbs,as.character(dfs[,\"Score\"]))\n",
    "colnames(tripleName)<-c(\"Subject\",\"Predicate\",\"Object\",\"Provenance\",\"Score\")\n",
    "\n",
    "write.table(tripleName,file=\"~/ODEX4all-UseCases/Bayer/data/Results_Genes_Traits.csv\",sep=\",\",row.names = FALSE)\n"
   ]
  },
  {
   "cell_type": "code",
   "execution_count": 45,
   "metadata": {
    "collapsed": false
   },
   "outputs": [
    {
     "data": {
      "text/html": [
       "<table>\n",
       "<thead><tr><th scope=col>Subject</th><th scope=col>Predicate</th><th scope=col>Object</th><th scope=col>Provenance</th><th scope=col>Score</th></tr></thead>\n",
       "<tbody>\n",
       "\t<tr><td>loc4324691 (oryza sativa japonica)                             </td><td>is associated with                                             </td><td>grain yield trait                                              </td><td>NA                                                             </td><td>7.0512                                                         </td></tr>\n",
       "\t<tr><td>grain yield trait                                              </td><td>is a                                                           </td><td>grain number                                                   </td><td>http://tools.gramene.org/ontology/term/to:0002759              </td><td>7.0512                                                         </td></tr>\n",
       "\t<tr><td>loc4335790 (oryza sativa japonica)                             </td><td>is associated with                                             </td><td>grain yield trait                                              </td><td>NA                                                             </td><td>6.9721                                                         </td></tr>\n",
       "\t<tr><td>grain yield trait                                              </td><td>is a                                                           </td><td>grain number                                                   </td><td>http://tools.gramene.org/ontology/term/to:0002759              </td><td>6.9721                                                         </td></tr>\n",
       "\t<tr><td>os07g0153600 (oryza sativa japonica)                           </td><td>is associated with                                             </td><td>grain number                                                   </td><td>http://browser.planteome.org/amigo/search/ontology?q=TO:0000357</td><td>4.9542                                                         </td></tr>\n",
       "\t<tr><td>grain number                                                   </td><td>is a                                                           </td><td>filled grain number                                            </td><td>http://www.ncbi.nlm.nih.gov/pubmed/18820699                    </td><td>4.9542                                                         </td></tr>\n",
       "</tbody>\n",
       "</table>\n"
      ],
      "text/latex": [
       "\\begin{tabular}{lllll}\n",
       " Subject & Predicate & Object & Provenance & Score\\\\\n",
       "\\hline\n",
       "\t loc4324691 (oryza sativa japonica)                              & is associated with                                              & grain yield trait                                               & NA                                                              & 7.0512                                                         \\\\\n",
       "\t grain yield trait                                               & is a                                                            & grain number                                                    & http://tools.gramene.org/ontology/term/to:0002759               & 7.0512                                                         \\\\\n",
       "\t loc4335790 (oryza sativa japonica)                              & is associated with                                              & grain yield trait                                               & NA                                                              & 6.9721                                                         \\\\\n",
       "\t grain yield trait                                               & is a                                                            & grain number                                                    & http://tools.gramene.org/ontology/term/to:0002759               & 6.9721                                                         \\\\\n",
       "\t os07g0153600 (oryza sativa japonica)                            & is associated with                                              & grain number                                                    & http://browser.planteome.org/amigo/search/ontology?q=TO:0000357 & 4.9542                                                         \\\\\n",
       "\t grain number                                                    & is a                                                            & filled grain number                                             & http://www.ncbi.nlm.nih.gov/pubmed/18820699                     & 4.9542                                                         \\\\\n",
       "\\end{tabular}\n"
      ],
      "text/markdown": [
       "\n",
       "Subject | Predicate | Object | Provenance | Score | \n",
       "|---|---|---|---|---|---|\n",
       "| loc4324691 (oryza sativa japonica)                              | is associated with                                              | grain yield trait                                               | NA                                                              | 7.0512                                                          | \n",
       "| grain yield trait                                               | is a                                                            | grain number                                                    | http://tools.gramene.org/ontology/term/to:0002759               | 7.0512                                                          | \n",
       "| loc4335790 (oryza sativa japonica)                              | is associated with                                              | grain yield trait                                               | NA                                                              | 6.9721                                                          | \n",
       "| grain yield trait                                               | is a                                                            | grain number                                                    | http://tools.gramene.org/ontology/term/to:0002759               | 6.9721                                                          | \n",
       "| os07g0153600 (oryza sativa japonica)                            | is associated with                                              | grain number                                                    | http://browser.planteome.org/amigo/search/ontology?q=TO:0000357 | 4.9542                                                          | \n",
       "| grain number                                                    | is a                                                            | filled grain number                                             | http://www.ncbi.nlm.nih.gov/pubmed/18820699                     | 4.9542                                                          | \n",
       "\n",
       "\n"
      ],
      "text/plain": [
       "     Subject                              Predicate         \n",
       "[1,] loc4324691 (oryza sativa japonica)   is associated with\n",
       "[2,] grain yield trait                    is a              \n",
       "[3,] loc4335790 (oryza sativa japonica)   is associated with\n",
       "[4,] grain yield trait                    is a              \n",
       "[5,] os07g0153600 (oryza sativa japonica) is associated with\n",
       "[6,] grain number                         is a              \n",
       "     Object             \n",
       "[1,] grain yield trait  \n",
       "[2,] grain number       \n",
       "[3,] grain yield trait  \n",
       "[4,] grain number       \n",
       "[5,] grain number       \n",
       "[6,] filled grain number\n",
       "     Provenance                                                      Score \n",
       "[1,] NA                                                              7.0512\n",
       "[2,] http://tools.gramene.org/ontology/term/to:0002759               7.0512\n",
       "[3,] NA                                                              6.9721\n",
       "[4,] http://tools.gramene.org/ontology/term/to:0002759               6.9721\n",
       "[5,] http://browser.planteome.org/amigo/search/ontology?q=TO:0000357 4.9542\n",
       "[6,] http://www.ncbi.nlm.nih.gov/pubmed/18820699                     4.9542"
      ]
     },
     "metadata": {},
     "output_type": "display_data"
    }
   ],
   "source": [
    "head(tripleName)"
   ]
  }
 ],
 "metadata": {
  "kernelspec": {
   "display_name": "R",
   "language": "R",
   "name": "ir"
  },
  "language_info": {
   "codemirror_mode": "r",
   "file_extension": ".r",
   "mimetype": "text/x-r-source",
   "name": "R",
   "pygments_lexer": "r",
   "version": "3.3.2"
  }
 },
 "nbformat": 4,
 "nbformat_minor": 2
}
