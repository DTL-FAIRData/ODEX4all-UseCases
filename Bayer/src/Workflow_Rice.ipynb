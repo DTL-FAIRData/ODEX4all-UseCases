{
 "cells": [
  {
   "cell_type": "markdown",
   "metadata": {},
   "source": [
    "## Objective: To identify genotype-phenotype trait association in Rice\n",
    "### Develop a workflow to identify genes indirectly associated with rice traits (Grain Size, Grain number etc) using EKP and visualize them in an interactive knowledge graph."
   ]
  },
  {
   "cell_type": "code",
   "execution_count": 1,
   "metadata": {
    "collapsed": false
   },
   "outputs": [
    {
     "name": "stderr",
     "output_type": "stream",
     "text": [
      "\n",
      "Attaching package: ‘dplyr’\n",
      "\n",
      "The following objects are masked from ‘package:stats’:\n",
      "\n",
      "    filter, lag\n",
      "\n",
      "The following objects are masked from ‘package:base’:\n",
      "\n",
      "    intersect, setdiff, setequal, union\n",
      "\n",
      "Loading required package: gsubfn\n",
      "Loading required package: proto\n",
      "Loading required package: RSQLite\n",
      "Loading required package: data.table\n",
      "------------------------------------------------------------------------------\n",
      "data.table + dplyr code now lives in dtplyr.\n",
      "Please library(dtplyr)!\n",
      "------------------------------------------------------------------------------\n",
      "\n",
      "Attaching package: ‘data.table’\n",
      "\n",
      "The following objects are masked from ‘package:dplyr’:\n",
      "\n",
      "    between, first, last\n",
      "\n",
      "\n",
      "Attaching package: ‘compare’\n",
      "\n",
      "The following object is masked from ‘package:base’:\n",
      "\n",
      "    isTRUE\n",
      "\n"
     ]
    }
   ],
   "source": [
    "library(dplyr)\n",
    "library(tidyr)\n",
    "library(sqldf)\n",
    "library(splitstackshape)\n",
    "library(stringr)\n",
    "library(compare)\n"
   ]
  },
  {
   "cell_type": "markdown",
   "metadata": {},
   "source": [
    "#### load EKP API"
   ]
  },
  {
   "cell_type": "code",
   "execution_count": 29,
   "metadata": {
    "collapsed": false
   },
   "outputs": [
    {
     "name": "stdout",
     "output_type": "stream",
     "text": [
      "\n"
     ]
    },
    {
     "name": "stderr",
     "output_type": "stream",
     "text": [
      "Retrieving page 0\n",
      "Retrieving page 1\n",
      "Retrieving page 2\n",
      "Retrieving page 3\n",
      "Retrieving page 4\n",
      "Retrieving page 5\n",
      "Retrieving page 6\n",
      "Retrieving page 7\n",
      "Retrieving page 8\n",
      "Retrieving page 9\n",
      "Retrieving page 10\n",
      "Retrieving page 11\n"
     ]
    }
   ],
   "source": [
    "source(\"..//src/EuretosInfrastructure.R\")"
   ]
  },
  {
   "cell_type": "code",
   "execution_count": 3,
   "metadata": {
    "collapsed": true
   },
   "outputs": [],
   "source": [
    "#### qtaro.abr.affrc.go.jp/qtab/table\n",
    "setwd(\"~/odex4all_usecases/ODEX4all-UseCases/Bayer/data\")"
   ]
  },
  {
   "cell_type": "markdown",
   "metadata": {},
   "source": [
    "#### Data downloaded from QTARO database located at \n",
    "#### qtaro.abr.affrc.go.jp/qtab/table\n",
    "#### This file can be changed to other gene symbols !"
   ]
  },
  {
   "cell_type": "code",
   "execution_count": 4,
   "metadata": {
    "collapsed": true
   },
   "outputs": [],
   "source": [
    "rice_genes <-read.csv(\"GeneInformationTable_Qtaro.csv\",header=TRUE)"
   ]
  },
  {
   "cell_type": "markdown",
   "metadata": {
    "slideshow": {
     "slide_type": "notes"
    }
   },
   "source": [
    "##### Select only morphological trait as these are associated with concept ids are dynamic (snapsnot date: 08-05-2017)\n",
    "##### \"grain size\" (EKP concept id : 5899980)\n",
    "##### \"grain thickness\" (EKP concept id  :5900661)\n",
    "##### \"grain number\" (EKP concept id (rice specific) :4343608)\n",
    "##### \"kernel number\" (EKP concept id:5900190)\n",
    "##### \"GRNB\" (EKP concept:5900394)\n",
    "##### \"fruit number\" (EKP concept:5900077)\n",
    "##### \"grain number per plant\" (EKP concept (exact): 5900828)\n",
    "##### \"GN\" (EKP concept:(vague many hits within EKP))"
   ]
  },
  {
   "cell_type": "code",
   "execution_count": 5,
   "metadata": {
    "collapsed": true
   },
   "outputs": [],
   "source": [
    "rice_genes <- select(rice_genes,locus_id,character_major)  \n",
    "rice_genes <- filter(rice_genes, character_major == \"Morphological trait\")\n",
    "rice_genes <- tolower(as.character(rice_genes[,\"locus_id\"]))\n",
    "rice_genes <- unique(rice_genes)\n",
    "rice_genes <- rice_genes[!is.na(rice_genes)]\n",
    "rice_genes <-rice_genes[rice_genes != \"-\"]"
   ]
  },
  {
   "cell_type": "code",
   "execution_count": 42,
   "metadata": {
    "collapsed": false,
    "scrolled": true
   },
   "outputs": [
    {
     "data": {
      "text/html": [
       "<ol class=list-inline>\n",
       "\t<li>'os01g0757200'</li>\n",
       "\t<li>'os02g0630300'</li>\n",
       "\t<li>'os04g0522500'</li>\n",
       "\t<li>'os09g0459200'</li>\n",
       "\t<li>'os02g0559800'</li>\n",
       "\t<li>'os02g0560200'</li>\n",
       "\t<li>'os02g0560600'</li>\n",
       "\t<li>'os02g0561000'</li>\n",
       "\t<li>'os02g0561400'</li>\n",
       "\t<li>'os02g0561800'</li>\n",
       "</ol>\n"
      ],
      "text/latex": [
       "\\begin{enumerate*}\n",
       "\\item 'os01g0757200'\n",
       "\\item 'os02g0630300'\n",
       "\\item 'os04g0522500'\n",
       "\\item 'os09g0459200'\n",
       "\\item 'os02g0559800'\n",
       "\\item 'os02g0560200'\n",
       "\\item 'os02g0560600'\n",
       "\\item 'os02g0561000'\n",
       "\\item 'os02g0561400'\n",
       "\\item 'os02g0561800'\n",
       "\\end{enumerate*}\n"
      ],
      "text/markdown": [
       "1. 'os01g0757200'\n",
       "2. 'os02g0630300'\n",
       "3. 'os04g0522500'\n",
       "4. 'os09g0459200'\n",
       "5. 'os02g0559800'\n",
       "6. 'os02g0560200'\n",
       "7. 'os02g0560600'\n",
       "8. 'os02g0561000'\n",
       "9. 'os02g0561400'\n",
       "10. 'os02g0561800'\n",
       "\n",
       "\n"
      ],
      "text/plain": [
       " [1] \"os01g0757200\" \"os02g0630300\" \"os04g0522500\" \"os09g0459200\" \"os02g0559800\"\n",
       " [6] \"os02g0560200\" \"os02g0560600\" \"os02g0561000\" \"os02g0561400\" \"os02g0561800\""
      ]
     },
     "metadata": {},
     "output_type": "display_data"
    }
   ],
   "source": [
    "head(rice_genes,n=10)"
   ]
  },
  {
   "cell_type": "markdown",
   "metadata": {},
   "source": [
    "## Step 1a : Get the starting concept identifiers"
   ]
  },
  {
   "cell_type": "raw",
   "metadata": {},
   "source": [
    "start <- getConceptID(rice_genes)"
   ]
  },
  {
   "cell_type": "markdown",
   "metadata": {},
   "source": [
    "## Step 1b: Get the ending concept identifiers for various traits as represented"
   ]
  },
  {
   "cell_type": "code",
   "execution_count": 11,
   "metadata": {
    "collapsed": true
   },
   "outputs": [],
   "source": [
    "traits<-c(\"TO:0000590\",\"TO:0000382\",\"TO:0000396\",\"TO:0000397\",\"TO:0000734\",\"TO:0000402\",\"TO:0002759\",\"TO:0000447\")"
   ]
  },
  {
   "cell_type": "code",
   "execution_count": 12,
   "metadata": {
    "collapsed": false
   },
   "outputs": [
    {
     "name": "stdout",
     "output_type": "stream",
     "text": [
      "\n",
      "\n",
      "\n",
      "\n",
      "\n",
      "\n",
      "\n",
      "\n"
     ]
    },
    {
     "data": {
      "text/html": [
       "<table>\n",
       "<thead><tr><th scope=col>TOid</th><th scope=col>TOEKPid</th><th scope=col>TOContentName</th></tr></thead>\n",
       "<tbody>\n",
       "\t<tr><td>TO:0000590           </td><td>5899973              </td><td>dehulled grain weight</td></tr>\n",
       "\t<tr><td>TO:0000382           </td><td>5900098              </td><td>1000-seed weight     </td></tr>\n",
       "\t<tr><td>TO:0000396           </td><td>5900965              </td><td>grain yield trait    </td></tr>\n",
       "\t<tr><td>TO:0000397           </td><td>5899980              </td><td>grain size           </td></tr>\n",
       "\t<tr><td>TO:0000734           </td><td>5900194              </td><td>grain length         </td></tr>\n",
       "\t<tr><td>TO:0000402           </td><td>5899965              </td><td>grain width          </td></tr>\n",
       "</tbody>\n",
       "</table>\n"
      ],
      "text/latex": [
       "\\begin{tabular}{lll}\n",
       " TOid & TOEKPid & TOContentName\\\\\n",
       "\\hline\n",
       "\t TO:0000590            & 5899973               & dehulled grain weight\\\\\n",
       "\t TO:0000382            & 5900098               & 1000-seed weight     \\\\\n",
       "\t TO:0000396            & 5900965               & grain yield trait    \\\\\n",
       "\t TO:0000397            & 5899980               & grain size           \\\\\n",
       "\t TO:0000734            & 5900194               & grain length         \\\\\n",
       "\t TO:0000402            & 5899965               & grain width          \\\\\n",
       "\\end{tabular}\n"
      ],
      "text/markdown": [
       "\n",
       "TOid | TOEKPid | TOContentName | \n",
       "|---|---|---|---|---|---|\n",
       "| TO:0000590            | 5899973               | dehulled grain weight | \n",
       "| TO:0000382            | 5900098               | 1000-seed weight      | \n",
       "| TO:0000396            | 5900965               | grain yield trait     | \n",
       "| TO:0000397            | 5899980               | grain size            | \n",
       "| TO:0000734            | 5900194               | grain length          | \n",
       "| TO:0000402            | 5899965               | grain width           | \n",
       "\n",
       "\n"
      ],
      "text/plain": [
       "     TOid       TOEKPid TOContentName        \n",
       "[1,] TO:0000590 5899973 dehulled grain weight\n",
       "[2,] TO:0000382 5900098 1000-seed weight     \n",
       "[3,] TO:0000396 5900965 grain yield trait    \n",
       "[4,] TO:0000397 5899980 grain size           \n",
       "[5,] TO:0000734 5900194 grain length         \n",
       "[6,] TO:0000402 5899965 grain width          "
      ]
     },
     "metadata": {},
     "output_type": "display_data"
    }
   ],
   "source": [
    "### Trait ekp ids \n",
    "end<-NULL\n",
    "for (i in 1:length(traits)){\n",
    "  tmp <- getTraitEKPID(traits[i])\n",
    "  tmpContent<-cbind(traits[i],tmp)\n",
    "  end<-rbind(end,tmpContent)\n",
    "}\n",
    "end<-end[,c(2,3,4)]\n",
    "colnames(end)<-c(\"TOid\",\"TOEKPid\",\"TOContentName\")\n",
    "\n",
    "head(end)\n",
    "\n"
   ]
  },
  {
   "cell_type": "raw",
   "metadata": {},
   "source": [
    "Following traits are considered here: \n",
    "#                        \n",
    "# grain size             \n",
    "# grain thickness       \n",
    "# grain number           \n",
    "# kernal number          \n",
    "# GRNB                   \n",
    "# fruit number           \n",
    "# grain number per plant \n"
   ]
  },
  {
   "cell_type": "markdown",
   "metadata": {},
   "source": [
    "### Step 2: For the traits that are not found get neighbours of them an create a file NeighbouringTrainEKPid"
   ]
  },
  {
   "cell_type": "code",
   "execution_count": 45,
   "metadata": {
    "collapsed": false
   },
   "outputs": [
    {
     "name": "stdout",
     "output_type": "stream",
     "text": [
      "\n",
      "\n",
      "\n",
      "\n",
      "\n",
      "\n",
      "\n",
      "\n",
      "\n"
     ]
    },
    {
     "ename": "ERROR",
     "evalue": "Error in rbind(neighbours, addEKPId): number of columns of matrices must match (see arg 2)\n",
     "output_type": "error",
     "traceback": [
      "Error in rbind(neighbours, addEKPId): number of columns of matrices must match (see arg 2)\nTraceback:\n",
      "1. rbind(neighbours, addEKPId)   # at line 7 of file <text>"
     ]
    }
   ],
   "source": [
    "### Now get the neighbours of traits because there have no indirect relations between genes and traits that can be found within EKP\n",
    "neighbours<-NULL\n",
    "for (i in 1:length(end)){\n",
    "  tmp <- unlist(getNeighbours(end[i]))\n",
    "  tmp<-tmp[which(names(unlist(tmp))%in% \"content.neighbour.id\"==TRUE)]\n",
    "  addEKPId<-cbind(end[i],tmp)\n",
    "  neighbours<-rbind(neighbours,addEKPId)  \n",
    "}\n",
    "colnames(neighbours)<-c(\"TOEKPid\",\"NeighbourEKPid\")\n",
    "rownames(neighbours)<-NULL\n",
    "write.csv(neighbours,file=\"NeighbouringTraitEKPid.csv\",row.names = FALSE)"
   ]
  },
  {
   "cell_type": "markdown",
   "metadata": {},
   "source": [
    "### Step 3: Get Indirect relationships between \"rice genes\"(start) and \"Trait\"(end)\n",
    "#### WARNING: This takes really long time"
   ]
  },
  {
   "cell_type": "code",
   "execution_count": null,
   "metadata": {
    "collapsed": true
   },
   "outputs": [],
   "source": [
    "### Gets the JSON objects from EKP API\n",
    "system(\"bash Get_TO:0000396.sh\")\n",
    "system(\"bash Get_TO:0002759.sh\")\n",
    "system(\"bash Get_TO:0000447.sh\")\n",
    "##################################################"
   ]
  },
  {
   "cell_type": "markdown",
   "metadata": {},
   "source": [
    "\n",
    "#### load the file from the disk\n"
   ]
  },
  {
   "cell_type": "code",
   "execution_count": 22,
   "metadata": {
    "collapsed": true
   },
   "outputs": [],
   "source": [
    "### Read the JSON objects just created\n",
    "document1 <- fromJSON(txt=\"int_TO:0000396.json\",flatten=TRUE)$content\n",
    "document2 <- fromJSON(txt=\"int_TO:0002759.json\",flatten=TRUE)$content\n",
    "document3 <- fromJSON(txt=\"int_TO:0000447.json\",flatten=TRUE)$content\n"
   ]
  },
  {
   "cell_type": "code",
   "execution_count": 23,
   "metadata": {
    "collapsed": true
   },
   "outputs": [],
   "source": [
    "### Combine the documents together\n",
    "genes2Traits <- list(document1,document2,document3)\n",
    "df<-fromJSON(toJSON(genes2Traits),flatten=TRUE)\n",
    "do.call(rbind,df) %>% as.data.frame -> genes2Traits\n"
   ]
  },
  {
   "cell_type": "code",
   "execution_count": 24,
   "metadata": {
    "collapsed": false
   },
   "outputs": [
    {
     "data": {
      "text/html": [
       "<table>\n",
       "<thead><tr><th scope=col>concepts</th><th scope=col>relationships</th><th scope=col>score</th></tr></thead>\n",
       "<tbody>\n",
       "\t<tr><td><span style=white-space:pre-wrap>7190948                             , 5900394                             , 5900965                             , os07g0153600 (oryza sativa japonica), grain number                        , grain yield trait                   , Genes &amp; Molecular Sequences         , Physiology                          , Physiology                          , T028                                , T040                                , T040                                , oryza sativa japonica               </span></td><td><span style=white-space:pre-wrap>7190948  , 5900394  , 5900394  , 5900965  , 149947379, 149948843, 232226800, 214510142, 232227983, 10773543 , 10773540 </span>                                                                                                                                                                                                                                                                                                                                                                                         </td><td>17                                                                                                                                                                                                                                                                                                                                                                                                                                                                                                                                                      </td></tr>\n",
       "\t<tr><td><span style=white-space:pre-wrap>3942413                                                                      , 5062125                                                                      , 5900965                                                                      , loc4335790 (oryza sativa japonica)                                           , beta-fructofuranosidase, insoluble isoenzyme 2 (oryza sativa subsp. japonica), grain yield trait                                                            , Genes &amp; Molecular Sequences                                                  , Chemicals &amp; Drugs                                                            , Physiology                                                                   , T028                                                                         , T116                                                                         , T040                                                                         , oryza sativa japonica                                                        , oryza sativa subsp. japonica                                                 , oryza sativa subsp. indica                                                   </span></td><td><span style=white-space:pre-wrap>3942413  , 5062125  , 5062125  , 5900965  , 33276979 , 13981829 , 184887463, 182649453, 10773605 , 10773543 </span>                                                                                                                                                                                                                                                                                                                                                                                                                                                                                                                                                                                                                                                                                                                                                                                                                                                                                                                                                                                                                                                                                                                           </td><td>10                                                                                                                                                                                                                                                                                                                                                                                                                                                                                                                                                                                                                                                                                                                                                                                                                                                                                                                                                                                                                                                                                                                                                                                                                                                                             </td></tr>\n",
       "\t<tr><td><span style=white-space:pre-wrap>3937158                           , 5900772                           , 5900965                           , loc4347031 (oryza sativa japonica), grain yield per plant             , grain yield trait                 , Genes &amp; Molecular Sequences       , Physiology                        , Physiology                        , T028                              , T040                              , T040                              , oryza sativa japonica             </span></td><td><span style=white-space:pre-wrap>3937158  , 5900772  , 5900772  , 5900965  , 13981962 , 149947923, 182653832, 232227184, 10773543 , 10773540 </span>                                                                                                                                                                                                                                                                                                                                                                          </td><td>10                                                                                                                                                                                                                                                                                                                                                                                                                                                                                                                            </td></tr>\n",
       "\t<tr><td><span style=white-space:pre-wrap>3942239                           , 5900828                           , 5900394                           , loc4336116 (oryza sativa japonica), grain number per plant            , grain number                      , Genes &amp; Molecular Sequences       , Physiology                        , Physiology                        , T028                              , T040                              , T040                              , oryza sativa japonica             </span></td><td><span style=white-space:pre-wrap>3942239  , 5900828  , 5900828  , 5900394  , 149947366, 149947906, 232226791, 212140844, 232227168, 10773543 , 10773540 </span>                                                                                                                                                                                                                                                                                                                                                               </td><td>17                                                                                                                                                                                                                                                                                                                                                                                                                                                                                                                            </td></tr>\n",
       "\t<tr><td><span style=white-space:pre-wrap>3942413                           , 5900965                           , 5900394                           , loc4335790 (oryza sativa japonica), grain yield trait                 , grain number                      , Genes &amp; Molecular Sequences       , Physiology                        , Physiology                        , T028                              , T040                              , T040                              , oryza sativa japonica             </span></td><td><span style=white-space:pre-wrap>3942413  , 5900965  , 5900965  , 5900394  , 13982456 , 149948843, 182655606, 232227983, 10773543 , 10773540 </span>                                                                                                                                                                                                                                                                                                                                                                          </td><td>10                                                                                                                                                                                                                                                                                                                                                                                                                                                                                                                            </td></tr>\n",
       "\t<tr><td><span style=white-space:pre-wrap>3940353                           , 5900965                           , 5900394                           , loc4324691 (oryza sativa japonica), grain yield trait                 , grain number                      , Genes &amp; Molecular Sequences       , Physiology                        , Physiology                        , T028                              , T040                              , T040                              , oryza sativa japonica             </span></td><td><span style=white-space:pre-wrap>3940353  , 5900965  , 5900965  , 5900394  , 13981952 , 149948843, 182653814, 232227983, 10773543 , 10773540 </span>                                                                                                                                                                                                                                                                                                                                                                          </td><td>10                                                                                                                                                                                                                                                                                                                                                                                                                                                                                                                            </td></tr>\n",
       "</tbody>\n",
       "</table>\n"
      ],
      "text/latex": [
       "\\begin{tabular}{r|lll}\n",
       " concepts & relationships & score\\\\\n",
       "\\hline\n",
       "\t 7190948                             , 5900394                             , 5900965                             , os07g0153600 (oryza sativa japonica), grain number                        , grain yield trait                   , Genes \\& Molecular Sequences         , Physiology                          , Physiology                          , T028                                , T040                                , T040                                , oryza sativa japonica                & 7190948  , 5900394  , 5900394  , 5900965  , 149947379, 149948843, 232226800, 214510142, 232227983, 10773543 , 10773540                                                                                                                                                                                                                                                                                                                                                                                         & 17                                                                                                                                                                                                                                                                                                                                                                                                                                                                                                            \\\\\n",
       "\t 3942413                                                                      , 5062125                                                                      , 5900965                                                                      , loc4335790 (oryza sativa japonica)                                           , beta-fructofuranosidase, insoluble isoenzyme 2 (oryza sativa subsp. japonica), grain yield trait                                                            , Genes \\& Molecular Sequences                                                  , Chemicals \\& Drugs                                                            , Physiology                                                                   , T028                                                                         , T116                                                                         , T040                                                                         , oryza sativa japonica                                                        , oryza sativa subsp. japonica                                                 , oryza sativa subsp. indica                                                    & 3942413  , 5062125  , 5062125  , 5900965  , 33276979 , 13981829 , 184887463, 182649453, 10773605 , 10773543                                                                                                                                                                                                                                                                                                                                                                                                                                                                                                                                                                                                                                                                                                                                                                                                                                                                                                                                                                                                                                                                                                                         & 10                                                                                                                                                                                                                                                                                                                                                                                                                                                                                                                                                                                                                                                                                                                                                                                                                                                                                                                                                                                                                                                                                                                                                                                                                                 \\\\\n",
       "\t 3937158                           , 5900772                           , 5900965                           , loc4347031 (oryza sativa japonica), grain yield per plant             , grain yield trait                 , Genes \\& Molecular Sequences       , Physiology                        , Physiology                        , T028                              , T040                              , T040                              , oryza sativa japonica              & 3937158  , 5900772  , 5900772  , 5900965  , 13981962 , 149947923, 182653832, 232227184, 10773543 , 10773540                                                                                                                                                                                                                                                                                                                                                                          & 10                                                                                                                                                                                                                                                                                                                                                                                                                                                                                  \\\\\n",
       "\t 3942239                           , 5900828                           , 5900394                           , loc4336116 (oryza sativa japonica), grain number per plant            , grain number                      , Genes \\& Molecular Sequences       , Physiology                        , Physiology                        , T028                              , T040                              , T040                              , oryza sativa japonica              & 3942239  , 5900828  , 5900828  , 5900394  , 149947366, 149947906, 232226791, 212140844, 232227168, 10773543 , 10773540                                                                                                                                                                                                                                                                                                                                                               & 17                                                                                                                                                                                                                                                                                                                                                                                                                                                                                  \\\\\n",
       "\t 3942413                           , 5900965                           , 5900394                           , loc4335790 (oryza sativa japonica), grain yield trait                 , grain number                      , Genes \\& Molecular Sequences       , Physiology                        , Physiology                        , T028                              , T040                              , T040                              , oryza sativa japonica              & 3942413  , 5900965  , 5900965  , 5900394  , 13982456 , 149948843, 182655606, 232227983, 10773543 , 10773540                                                                                                                                                                                                                                                                                                                                                                          & 10                                                                                                                                                                                                                                                                                                                                                                                                                                                                                  \\\\\n",
       "\t 3940353                           , 5900965                           , 5900394                           , loc4324691 (oryza sativa japonica), grain yield trait                 , grain number                      , Genes \\& Molecular Sequences       , Physiology                        , Physiology                        , T028                              , T040                              , T040                              , oryza sativa japonica              & 3940353  , 5900965  , 5900965  , 5900394  , 13981952 , 149948843, 182653814, 232227983, 10773543 , 10773540                                                                                                                                                                                                                                                                                                                                                                          & 10                                                                                                                                                                                                                                                                                                                                                                                                                                                                                  \\\\\n",
       "\\end{tabular}\n"
      ],
      "text/markdown": [
       "\n",
       "concepts | relationships | score | \n",
       "|---|---|---|---|---|---|\n",
       "| 7190948                             , 5900394                             , 5900965                             , os07g0153600 (oryza sativa japonica), grain number                        , grain yield trait                   , Genes & Molecular Sequences         , Physiology                          , Physiology                          , T028                                , T040                                , T040                                , oryza sativa japonica                | 7190948  , 5900394  , 5900394  , 5900965  , 149947379, 149948843, 232226800, 214510142, 232227983, 10773543 , 10773540                                                                                                                                                                                                                                                                                                                                                                                       | 17                                                                                                                                                                                                                                                                                                                                                                                                                                                                                                           | \n",
       "| 3942413                                                                      , 5062125                                                                      , 5900965                                                                      , loc4335790 (oryza sativa japonica)                                           , beta-fructofuranosidase, insoluble isoenzyme 2 (oryza sativa subsp. japonica), grain yield trait                                                            , Genes & Molecular Sequences                                                  , Chemicals & Drugs                                                            , Physiology                                                                   , T028                                                                         , T116                                                                         , T040                                                                         , oryza sativa japonica                                                        , oryza sativa subsp. japonica                                                 , oryza sativa subsp. indica                                                    | 3942413  , 5062125  , 5062125  , 5900965  , 33276979 , 13981829 , 184887463, 182649453, 10773605 , 10773543                                                                                                                                                                                                                                                                                                                                                                                                                                                                                                                                                                                                                                                                                                                                                                                                                                                                                                                                                                                                                                                                                                                     | 10                                                                                                                                                                                                                                                                                                                                                                                                                                                                                                                                                                                                                                                                                                                                                                                                                                                                                                                                                                                                                                                                                                                                                                                                                              | \n",
       "| 3937158                           , 5900772                           , 5900965                           , loc4347031 (oryza sativa japonica), grain yield per plant             , grain yield trait                 , Genes & Molecular Sequences       , Physiology                        , Physiology                        , T028                              , T040                              , T040                              , oryza sativa japonica              | 3937158  , 5900772  , 5900772  , 5900965  , 13981962 , 149947923, 182653832, 232227184, 10773543 , 10773540                                                                                                                                                                                                                                                                                                                                                                        | 10                                                                                                                                                                                                                                                                                                                                                                                                                                                                                 | \n",
       "| 3942239                           , 5900828                           , 5900394                           , loc4336116 (oryza sativa japonica), grain number per plant            , grain number                      , Genes & Molecular Sequences       , Physiology                        , Physiology                        , T028                              , T040                              , T040                              , oryza sativa japonica              | 3942239  , 5900828  , 5900828  , 5900394  , 149947366, 149947906, 232226791, 212140844, 232227168, 10773543 , 10773540                                                                                                                                                                                                                                                                                                                                                             | 17                                                                                                                                                                                                                                                                                                                                                                                                                                                                                 | \n",
       "| 3942413                           , 5900965                           , 5900394                           , loc4335790 (oryza sativa japonica), grain yield trait                 , grain number                      , Genes & Molecular Sequences       , Physiology                        , Physiology                        , T028                              , T040                              , T040                              , oryza sativa japonica              | 3942413  , 5900965  , 5900965  , 5900394  , 13982456 , 149948843, 182655606, 232227983, 10773543 , 10773540                                                                                                                                                                                                                                                                                                                                                                        | 10                                                                                                                                                                                                                                                                                                                                                                                                                                                                                 | \n",
       "| 3940353                           , 5900965                           , 5900394                           , loc4324691 (oryza sativa japonica), grain yield trait                 , grain number                      , Genes & Molecular Sequences       , Physiology                        , Physiology                        , T028                              , T040                              , T040                              , oryza sativa japonica              | 3940353  , 5900965  , 5900965  , 5900394  , 13981952 , 149948843, 182653814, 232227983, 10773543 , 10773540                                                                                                                                                                                                                                                                                                                                                                        | 10                                                                                                                                                                                                                                                                                                                                                                                                                                                                                 | \n",
       "\n",
       "\n"
      ],
      "text/plain": [
       "  concepts                                                                                                                                                                                                                                                                                                                                                                                                                                                                                                                                                                                                                                                                                                                                                                                                                                                                                                                                                                                                                                                                                                                                                                                                                       \n",
       "1 7190948                             , 5900394                             , 5900965                             , os07g0153600 (oryza sativa japonica), grain number                        , grain yield trait                   , Genes & Molecular Sequences         , Physiology                          , Physiology                          , T028                                , T040                                , T040                                , oryza sativa japonica                                                                                                                                                                                                                                                                                                                                                                                                                                                                                                                                                                                                                                                                                                                                  \n",
       "2 3942413                                                                      , 5062125                                                                      , 5900965                                                                      , loc4335790 (oryza sativa japonica)                                           , beta-fructofuranosidase, insoluble isoenzyme 2 (oryza sativa subsp. japonica), grain yield trait                                                            , Genes & Molecular Sequences                                                  , Chemicals & Drugs                                                            , Physiology                                                                   , T028                                                                         , T116                                                                         , T040                                                                         , oryza sativa japonica                                                        , oryza sativa subsp. japonica                                                 , oryza sativa subsp. indica                                                   \n",
       "3 3937158                           , 5900772                           , 5900965                           , loc4347031 (oryza sativa japonica), grain yield per plant             , grain yield trait                 , Genes & Molecular Sequences       , Physiology                        , Physiology                        , T028                              , T040                              , T040                              , oryza sativa japonica                                                                                                                                                                                                                                                                                                                                                                                                                                                                                                                                                                                                                                                                                                                                                          \n",
       "4 3942239                           , 5900828                           , 5900394                           , loc4336116 (oryza sativa japonica), grain number per plant            , grain number                      , Genes & Molecular Sequences       , Physiology                        , Physiology                        , T028                              , T040                              , T040                              , oryza sativa japonica                                                                                                                                                                                                                                                                                                                                                                                                                                                                                                                                                                                                                                                                                                                                                          \n",
       "5 3942413                           , 5900965                           , 5900394                           , loc4335790 (oryza sativa japonica), grain yield trait                 , grain number                      , Genes & Molecular Sequences       , Physiology                        , Physiology                        , T028                              , T040                              , T040                              , oryza sativa japonica                                                                                                                                                                                                                                                                                                                                                                                                                                                                                                                                                                                                                                                                                                                                                          \n",
       "6 3940353                           , 5900965                           , 5900394                           , loc4324691 (oryza sativa japonica), grain yield trait                 , grain number                      , Genes & Molecular Sequences       , Physiology                        , Physiology                        , T028                              , T040                              , T040                              , oryza sativa japonica                                                                                                                                                                                                                                                                                                                                                                                                                                                                                                                                                                                                                                                                                                                                                          \n",
       "  relationships                                                                                                          \n",
       "1 7190948  , 5900394  , 5900394  , 5900965  , 149947379, 149948843, 232226800, 214510142, 232227983, 10773543 , 10773540 \n",
       "2 3942413  , 5062125  , 5062125  , 5900965  , 33276979 , 13981829 , 184887463, 182649453, 10773605 , 10773543            \n",
       "3 3937158  , 5900772  , 5900772  , 5900965  , 13981962 , 149947923, 182653832, 232227184, 10773543 , 10773540            \n",
       "4 3942239  , 5900828  , 5900828  , 5900394  , 149947366, 149947906, 232226791, 212140844, 232227168, 10773543 , 10773540 \n",
       "5 3942413  , 5900965  , 5900965  , 5900394  , 13982456 , 149948843, 182655606, 232227983, 10773543 , 10773540            \n",
       "6 3940353  , 5900965  , 5900965  , 5900394  , 13981952 , 149948843, 182653814, 232227983, 10773543 , 10773540            \n",
       "  score\n",
       "1 17   \n",
       "2 10   \n",
       "3 10   \n",
       "4 17   \n",
       "5 10   \n",
       "6 10   "
      ]
     },
     "metadata": {},
     "output_type": "display_data"
    }
   ],
   "source": [
    "head(genes2Traits)"
   ]
  },
  {
   "cell_type": "markdown",
   "metadata": {},
   "source": [
    "### Now call get indirect relationships for remaining traits (proxy for their neighbours)"
   ]
  },
  {
   "cell_type": "code",
   "execution_count": null,
   "metadata": {
    "collapsed": true
   },
   "outputs": [],
   "source": [
    "system (\"bash Get_TO:0000590_TO:0000382_TO:0000397_TO:0000734_TO:0000402.sh\")\n"
   ]
  },
  {
   "cell_type": "code",
   "execution_count": 39,
   "metadata": {
    "collapsed": true
   },
   "outputs": [],
   "source": [
    "\n",
    "genes2TraitNeighbour <- fromJSON(txt=\"int_TO:0000590_TO:0000382_TO:0000397_TO:0000734_TO:0000402.json\")$content\n"
   ]
  },
  {
   "cell_type": "code",
   "execution_count": 31,
   "metadata": {
    "collapsed": false
   },
   "outputs": [
    {
     "data": {
      "text/html": [
       "<ol>\n",
       "\t<li><table>\n",
       "<thead><tr><th scope=col>concept0Id</th><th scope=col>concept1Id</th><th scope=col>tripleIds</th><th scope=col>publicationIds</th><th scope=col>predicateIds</th></tr></thead>\n",
       "<tbody>\n",
       "\t<tr><td>7191380 </td><td>3018711 </td><td>58958754</td><td>        </td><td>10773565</td></tr>\n",
       "\t<tr><td>3018711  </td><td>5900111  </td><td>598586   </td><td>165079246</td><td>10773565 </td></tr>\n",
       "</tbody>\n",
       "</table>\n",
       "</li>\n",
       "\t<li><table>\n",
       "<thead><tr><th scope=col>concept0Id</th><th scope=col>concept1Id</th><th scope=col>tripleIds</th><th scope=col>publicationIds</th><th scope=col>predicateIds</th></tr></thead>\n",
       "<tbody>\n",
       "\t<tr><td>3939406  </td><td>443490   </td><td>58657858 </td><td>204100383</td><td>10773588 </td></tr>\n",
       "\t<tr><td>443490   </td><td>3940353  </td><td>58581520 </td><td>204087844</td><td>10773588 </td></tr>\n",
       "</tbody>\n",
       "</table>\n",
       "</li>\n",
       "\t<li><table>\n",
       "<thead><tr><th scope=col>concept0Id</th><th scope=col>concept1Id</th><th scope=col>tripleIds</th><th scope=col>publicationIds</th><th scope=col>predicateIds</th></tr></thead>\n",
       "<tbody>\n",
       "\t<tr><td>3939406  </td><td>443490   </td><td>58657858 </td><td>204100383</td><td>10773588 </td></tr>\n",
       "\t<tr><td>443490   </td><td>3941570  </td><td>59715080 </td><td>204261448</td><td>10773588 </td></tr>\n",
       "</tbody>\n",
       "</table>\n",
       "</li>\n",
       "\t<li><table>\n",
       "<thead><tr><th scope=col>concept0Id</th><th scope=col>concept1Id</th><th scope=col>tripleIds</th><th scope=col>publicationIds</th><th scope=col>predicateIds</th></tr></thead>\n",
       "<tbody>\n",
       "\t<tr><td>3939406  </td><td>2249148  </td><td>58657850 </td><td>204100383</td><td>10773588 </td></tr>\n",
       "\t<tr><td>2249148  </td><td>3941570  </td><td>59715130 </td><td>204261448</td><td>10773588 </td></tr>\n",
       "</tbody>\n",
       "</table>\n",
       "</li>\n",
       "\t<li><table>\n",
       "<thead><tr><th scope=col>concept0Id</th><th scope=col>concept1Id</th><th scope=col>tripleIds</th><th scope=col>publicationIds</th><th scope=col>predicateIds</th></tr></thead>\n",
       "<tbody>\n",
       "\t<tr><td>7191380  </td><td>963778   </td><td>59195627 </td><td>204178303</td><td>10773588 </td></tr>\n",
       "\t<tr><td>963778   </td><td>3942413  </td><td>59923528 </td><td>204289188</td><td>10773588 </td></tr>\n",
       "</tbody>\n",
       "</table>\n",
       "</li>\n",
       "\t<li><table>\n",
       "<thead><tr><th scope=col>concept0Id</th><th scope=col>concept1Id</th><th scope=col>tripleIds</th><th scope=col>publicationIds</th><th scope=col>predicateIds</th></tr></thead>\n",
       "<tbody>\n",
       "\t<tr><td>3943638  </td><td>963778   </td><td>58254194 </td><td>204021845</td><td>10773588 </td></tr>\n",
       "\t<tr><td>963778   </td><td>3942413  </td><td>59923528 </td><td>204289188</td><td>10773588 </td></tr>\n",
       "</tbody>\n",
       "</table>\n",
       "</li>\n",
       "</ol>\n"
      ],
      "text/latex": [
       "\\begin{enumerate}\n",
       "\\item \\begin{tabular}{r|lllll}\n",
       " concept0Id & concept1Id & tripleIds & publicationIds & predicateIds\\\\\n",
       "\\hline\n",
       "\t 7191380  & 3018711  & 58958754 &          & 10773565\\\\\n",
       "\t 3018711   & 5900111   & 598586    & 165079246 & 10773565 \\\\\n",
       "\\end{tabular}\n",
       "\n",
       "\\item \\begin{tabular}{r|lllll}\n",
       " concept0Id & concept1Id & tripleIds & publicationIds & predicateIds\\\\\n",
       "\\hline\n",
       "\t 3939406   & 443490    & 58657858  & 204100383 & 10773588 \\\\\n",
       "\t 443490    & 3940353   & 58581520  & 204087844 & 10773588 \\\\\n",
       "\\end{tabular}\n",
       "\n",
       "\\item \\begin{tabular}{r|lllll}\n",
       " concept0Id & concept1Id & tripleIds & publicationIds & predicateIds\\\\\n",
       "\\hline\n",
       "\t 3939406   & 443490    & 58657858  & 204100383 & 10773588 \\\\\n",
       "\t 443490    & 3941570   & 59715080  & 204261448 & 10773588 \\\\\n",
       "\\end{tabular}\n",
       "\n",
       "\\item \\begin{tabular}{r|lllll}\n",
       " concept0Id & concept1Id & tripleIds & publicationIds & predicateIds\\\\\n",
       "\\hline\n",
       "\t 3939406   & 2249148   & 58657850  & 204100383 & 10773588 \\\\\n",
       "\t 2249148   & 3941570   & 59715130  & 204261448 & 10773588 \\\\\n",
       "\\end{tabular}\n",
       "\n",
       "\\item \\begin{tabular}{r|lllll}\n",
       " concept0Id & concept1Id & tripleIds & publicationIds & predicateIds\\\\\n",
       "\\hline\n",
       "\t 7191380   & 963778    & 59195627  & 204178303 & 10773588 \\\\\n",
       "\t 963778    & 3942413   & 59923528  & 204289188 & 10773588 \\\\\n",
       "\\end{tabular}\n",
       "\n",
       "\\item \\begin{tabular}{r|lllll}\n",
       " concept0Id & concept1Id & tripleIds & publicationIds & predicateIds\\\\\n",
       "\\hline\n",
       "\t 3943638   & 963778    & 58254194  & 204021845 & 10773588 \\\\\n",
       "\t 963778    & 3942413   & 59923528  & 204289188 & 10773588 \\\\\n",
       "\\end{tabular}\n",
       "\n",
       "\\end{enumerate}\n"
      ],
      "text/markdown": [
       "1. \n",
       "concept0Id | concept1Id | tripleIds | publicationIds | predicateIds | \n",
       "|---|---|\n",
       "| 7191380  | 3018711  | 58958754 |          | 10773565 | \n",
       "| 3018711   | 5900111   | 598586    | 165079246 | 10773565  | \n",
       "\n",
       "\n",
       "\n",
       "2. \n",
       "concept0Id | concept1Id | tripleIds | publicationIds | predicateIds | \n",
       "|---|---|\n",
       "| 3939406   | 443490    | 58657858  | 204100383 | 10773588  | \n",
       "| 443490    | 3940353   | 58581520  | 204087844 | 10773588  | \n",
       "\n",
       "\n",
       "\n",
       "3. \n",
       "concept0Id | concept1Id | tripleIds | publicationIds | predicateIds | \n",
       "|---|---|\n",
       "| 3939406   | 443490    | 58657858  | 204100383 | 10773588  | \n",
       "| 443490    | 3941570   | 59715080  | 204261448 | 10773588  | \n",
       "\n",
       "\n",
       "\n",
       "4. \n",
       "concept0Id | concept1Id | tripleIds | publicationIds | predicateIds | \n",
       "|---|---|\n",
       "| 3939406   | 2249148   | 58657850  | 204100383 | 10773588  | \n",
       "| 2249148   | 3941570   | 59715130  | 204261448 | 10773588  | \n",
       "\n",
       "\n",
       "\n",
       "5. \n",
       "concept0Id | concept1Id | tripleIds | publicationIds | predicateIds | \n",
       "|---|---|\n",
       "| 7191380   | 963778    | 59195627  | 204178303 | 10773588  | \n",
       "| 963778    | 3942413   | 59923528  | 204289188 | 10773588  | \n",
       "\n",
       "\n",
       "\n",
       "6. \n",
       "concept0Id | concept1Id | tripleIds | publicationIds | predicateIds | \n",
       "|---|---|\n",
       "| 3943638   | 963778    | 58254194  | 204021845 | 10773588  | \n",
       "| 963778    | 3942413   | 59923528  | 204289188 | 10773588  | \n",
       "\n",
       "\n",
       "\n",
       "\n",
       "\n"
      ],
      "text/plain": [
       "[[1]]\n",
       "  concept0Id concept1Id tripleIds publicationIds predicateIds\n",
       "1    7191380    3018711  58958754                    10773565\n",
       "2    3018711    5900111    598586      165079246     10773565\n",
       "\n",
       "[[2]]\n",
       "  concept0Id concept1Id tripleIds publicationIds predicateIds\n",
       "1    3939406     443490  58657858      204100383     10773588\n",
       "2     443490    3940353  58581520      204087844     10773588\n",
       "\n",
       "[[3]]\n",
       "  concept0Id concept1Id tripleIds publicationIds predicateIds\n",
       "1    3939406     443490  58657858      204100383     10773588\n",
       "2     443490    3941570  59715080      204261448     10773588\n",
       "\n",
       "[[4]]\n",
       "  concept0Id concept1Id tripleIds publicationIds predicateIds\n",
       "1    3939406    2249148  58657850      204100383     10773588\n",
       "2    2249148    3941570  59715130      204261448     10773588\n",
       "\n",
       "[[5]]\n",
       "  concept0Id concept1Id tripleIds publicationIds predicateIds\n",
       "1    7191380     963778  59195627      204178303     10773588\n",
       "2     963778    3942413  59923528      204289188     10773588\n",
       "\n",
       "[[6]]\n",
       "  concept0Id concept1Id tripleIds publicationIds predicateIds\n",
       "1    3943638     963778  58254194      204021845     10773588\n",
       "2     963778    3942413  59923528      204289188     10773588\n"
      ]
     },
     "metadata": {},
     "output_type": "display_data"
    }
   ],
   "source": [
    "head(genes2TraitNeighbour$relationships)"
   ]
  },
  {
   "cell_type": "markdown",
   "metadata": {},
   "source": [
    "### Combine all traits"
   ]
  },
  {
   "cell_type": "code",
   "execution_count": 25,
   "metadata": {
    "collapsed": true
   },
   "outputs": [],
   "source": [
    "overallTraitRelations<-rbind(genes2Traits,genes2TraitNeighbour)"
   ]
  },
  {
   "cell_type": "code",
   "execution_count": 32,
   "metadata": {
    "collapsed": false
   },
   "outputs": [
    {
     "data": {
      "text/html": [
       "<ol>\n",
       "\t<li><table>\n",
       "<thead><tr><th scope=col>concept0Id</th><th scope=col>concept1Id</th><th scope=col>tripleIds</th><th scope=col>publicationIds</th><th scope=col>predicateIds</th></tr></thead>\n",
       "<tbody>\n",
       "\t<tr><td>7190948             </td><td>5900394             </td><td>149947379           </td><td>232226800, 214510142</td><td>10773543            </td></tr>\n",
       "\t<tr><td>5900394  </td><td>5900965  </td><td>149948843</td><td>232227983</td><td>10773540 </td></tr>\n",
       "</tbody>\n",
       "</table>\n",
       "</li>\n",
       "\t<li><table>\n",
       "<thead><tr><th scope=col>concept0Id</th><th scope=col>concept1Id</th><th scope=col>tripleIds</th><th scope=col>publicationIds</th><th scope=col>predicateIds</th></tr></thead>\n",
       "<tbody>\n",
       "\t<tr><td>3942413  </td><td>5062125  </td><td>33276979 </td><td>184887463</td><td>10773605 </td></tr>\n",
       "\t<tr><td>5062125  </td><td>5900965  </td><td>13981829 </td><td>182649453</td><td>10773543 </td></tr>\n",
       "</tbody>\n",
       "</table>\n",
       "</li>\n",
       "\t<li><table>\n",
       "<thead><tr><th scope=col>concept0Id</th><th scope=col>concept1Id</th><th scope=col>tripleIds</th><th scope=col>publicationIds</th><th scope=col>predicateIds</th></tr></thead>\n",
       "<tbody>\n",
       "\t<tr><td>3937158  </td><td>5900772  </td><td>13981962 </td><td>182653832</td><td>10773543 </td></tr>\n",
       "\t<tr><td>5900772  </td><td>5900965  </td><td>149947923</td><td>232227184</td><td>10773540 </td></tr>\n",
       "</tbody>\n",
       "</table>\n",
       "</li>\n",
       "\t<li><table>\n",
       "<thead><tr><th scope=col>concept0Id</th><th scope=col>concept1Id</th><th scope=col>tripleIds</th><th scope=col>publicationIds</th><th scope=col>predicateIds</th></tr></thead>\n",
       "<tbody>\n",
       "\t<tr><td>3942239             </td><td>5900828             </td><td>149947366           </td><td>232226791, 212140844</td><td>10773543            </td></tr>\n",
       "\t<tr><td>5900828  </td><td>5900394  </td><td>149947906</td><td>232227168</td><td>10773540 </td></tr>\n",
       "</tbody>\n",
       "</table>\n",
       "</li>\n",
       "\t<li><table>\n",
       "<thead><tr><th scope=col>concept0Id</th><th scope=col>concept1Id</th><th scope=col>tripleIds</th><th scope=col>publicationIds</th><th scope=col>predicateIds</th></tr></thead>\n",
       "<tbody>\n",
       "\t<tr><td>3942413  </td><td>5900965  </td><td>13982456 </td><td>182655606</td><td>10773543 </td></tr>\n",
       "\t<tr><td>5900965  </td><td>5900394  </td><td>149948843</td><td>232227983</td><td>10773540 </td></tr>\n",
       "</tbody>\n",
       "</table>\n",
       "</li>\n",
       "\t<li><table>\n",
       "<thead><tr><th scope=col>concept0Id</th><th scope=col>concept1Id</th><th scope=col>tripleIds</th><th scope=col>publicationIds</th><th scope=col>predicateIds</th></tr></thead>\n",
       "<tbody>\n",
       "\t<tr><td>3940353  </td><td>5900965  </td><td>13981952 </td><td>182653814</td><td>10773543 </td></tr>\n",
       "\t<tr><td>5900965  </td><td>5900394  </td><td>149948843</td><td>232227983</td><td>10773540 </td></tr>\n",
       "</tbody>\n",
       "</table>\n",
       "</li>\n",
       "</ol>\n"
      ],
      "text/latex": [
       "\\begin{enumerate}\n",
       "\\item \\begin{tabular}{r|lllll}\n",
       " concept0Id & concept1Id & tripleIds & publicationIds & predicateIds\\\\\n",
       "\\hline\n",
       "\t 7190948              & 5900394              & 149947379            & 232226800, 214510142 & 10773543            \\\\\n",
       "\t 5900394   & 5900965   & 149948843 & 232227983 & 10773540 \\\\\n",
       "\\end{tabular}\n",
       "\n",
       "\\item \\begin{tabular}{r|lllll}\n",
       " concept0Id & concept1Id & tripleIds & publicationIds & predicateIds\\\\\n",
       "\\hline\n",
       "\t 3942413   & 5062125   & 33276979  & 184887463 & 10773605 \\\\\n",
       "\t 5062125   & 5900965   & 13981829  & 182649453 & 10773543 \\\\\n",
       "\\end{tabular}\n",
       "\n",
       "\\item \\begin{tabular}{r|lllll}\n",
       " concept0Id & concept1Id & tripleIds & publicationIds & predicateIds\\\\\n",
       "\\hline\n",
       "\t 3937158   & 5900772   & 13981962  & 182653832 & 10773543 \\\\\n",
       "\t 5900772   & 5900965   & 149947923 & 232227184 & 10773540 \\\\\n",
       "\\end{tabular}\n",
       "\n",
       "\\item \\begin{tabular}{r|lllll}\n",
       " concept0Id & concept1Id & tripleIds & publicationIds & predicateIds\\\\\n",
       "\\hline\n",
       "\t 3942239              & 5900828              & 149947366            & 232226791, 212140844 & 10773543            \\\\\n",
       "\t 5900828   & 5900394   & 149947906 & 232227168 & 10773540 \\\\\n",
       "\\end{tabular}\n",
       "\n",
       "\\item \\begin{tabular}{r|lllll}\n",
       " concept0Id & concept1Id & tripleIds & publicationIds & predicateIds\\\\\n",
       "\\hline\n",
       "\t 3942413   & 5900965   & 13982456  & 182655606 & 10773543 \\\\\n",
       "\t 5900965   & 5900394   & 149948843 & 232227983 & 10773540 \\\\\n",
       "\\end{tabular}\n",
       "\n",
       "\\item \\begin{tabular}{r|lllll}\n",
       " concept0Id & concept1Id & tripleIds & publicationIds & predicateIds\\\\\n",
       "\\hline\n",
       "\t 3940353   & 5900965   & 13981952  & 182653814 & 10773543 \\\\\n",
       "\t 5900965   & 5900394   & 149948843 & 232227983 & 10773540 \\\\\n",
       "\\end{tabular}\n",
       "\n",
       "\\end{enumerate}\n"
      ],
      "text/markdown": [
       "1. \n",
       "concept0Id | concept1Id | tripleIds | publicationIds | predicateIds | \n",
       "|---|---|\n",
       "| 7190948              | 5900394              | 149947379            | 232226800, 214510142 | 10773543             | \n",
       "| 5900394   | 5900965   | 149948843 | 232227983 | 10773540  | \n",
       "\n",
       "\n",
       "\n",
       "2. \n",
       "concept0Id | concept1Id | tripleIds | publicationIds | predicateIds | \n",
       "|---|---|\n",
       "| 3942413   | 5062125   | 33276979  | 184887463 | 10773605  | \n",
       "| 5062125   | 5900965   | 13981829  | 182649453 | 10773543  | \n",
       "\n",
       "\n",
       "\n",
       "3. \n",
       "concept0Id | concept1Id | tripleIds | publicationIds | predicateIds | \n",
       "|---|---|\n",
       "| 3937158   | 5900772   | 13981962  | 182653832 | 10773543  | \n",
       "| 5900772   | 5900965   | 149947923 | 232227184 | 10773540  | \n",
       "\n",
       "\n",
       "\n",
       "4. \n",
       "concept0Id | concept1Id | tripleIds | publicationIds | predicateIds | \n",
       "|---|---|\n",
       "| 3942239              | 5900828              | 149947366            | 232226791, 212140844 | 10773543             | \n",
       "| 5900828   | 5900394   | 149947906 | 232227168 | 10773540  | \n",
       "\n",
       "\n",
       "\n",
       "5. \n",
       "concept0Id | concept1Id | tripleIds | publicationIds | predicateIds | \n",
       "|---|---|\n",
       "| 3942413   | 5900965   | 13982456  | 182655606 | 10773543  | \n",
       "| 5900965   | 5900394   | 149948843 | 232227983 | 10773540  | \n",
       "\n",
       "\n",
       "\n",
       "6. \n",
       "concept0Id | concept1Id | tripleIds | publicationIds | predicateIds | \n",
       "|---|---|\n",
       "| 3940353   | 5900965   | 13981952  | 182653814 | 10773543  | \n",
       "| 5900965   | 5900394   | 149948843 | 232227983 | 10773540  | \n",
       "\n",
       "\n",
       "\n",
       "\n",
       "\n"
      ],
      "text/plain": [
       "[[1]]\n",
       "  concept0Id concept1Id tripleIds       publicationIds predicateIds\n",
       "1    7190948    5900394 149947379 232226800, 214510142     10773543\n",
       "2    5900394    5900965 149948843            232227983     10773540\n",
       "\n",
       "[[2]]\n",
       "  concept0Id concept1Id tripleIds publicationIds predicateIds\n",
       "1    3942413    5062125  33276979      184887463     10773605\n",
       "2    5062125    5900965  13981829      182649453     10773543\n",
       "\n",
       "[[3]]\n",
       "  concept0Id concept1Id tripleIds publicationIds predicateIds\n",
       "1    3937158    5900772  13981962      182653832     10773543\n",
       "2    5900772    5900965 149947923      232227184     10773540\n",
       "\n",
       "[[4]]\n",
       "  concept0Id concept1Id tripleIds       publicationIds predicateIds\n",
       "1    3942239    5900828 149947366 232226791, 212140844     10773543\n",
       "2    5900828    5900394 149947906            232227168     10773540\n",
       "\n",
       "[[5]]\n",
       "  concept0Id concept1Id tripleIds publicationIds predicateIds\n",
       "1    3942413    5900965  13982456      182655606     10773543\n",
       "2    5900965    5900394 149948843      232227983     10773540\n",
       "\n",
       "[[6]]\n",
       "  concept0Id concept1Id tripleIds publicationIds predicateIds\n",
       "1    3940353    5900965  13981952      182653814     10773543\n",
       "2    5900965    5900394 149948843      232227983     10773540\n"
      ]
     },
     "metadata": {},
     "output_type": "display_data"
    }
   ],
   "source": [
    "head(overallTraitRelations$relationships)"
   ]
  },
  {
   "cell_type": "markdown",
   "metadata": {},
   "source": [
    "### Formatting and data cleaning"
   ]
  },
  {
   "cell_type": "code",
   "execution_count": 33,
   "metadata": {
    "collapsed": false
   },
   "outputs": [
    {
     "name": "stderr",
     "output_type": "stream",
     "text": [
      "Warning message in cbind(unlist(dfs[, \"Subject\"]), unlist(dfs[, \"Object\"]), as.character.default(unlist(dfs[, :\n",
      "“number of rows of result is not a multiple of vector length (arg 1)”"
     ]
    }
   ],
   "source": [
    "dfs<-as.matrix(getTableFromJson(overallTraitRelations))\n",
    "dfs[,\"Predicate\"]<-str_replace_all(dfs[,\"Predicate\"], \"[^[:alnum:]]\",\"\")\n",
    "dfs[,\"Predicate\"]<-str_replace_all(dfs[,\"Predicate\"], \"c\",\"\")\n",
    "dfs[,\"Publications\"]<-str_replace_all(dfs[,\"Publications\"], \"[^[:alnum:]]\",\"\")\n",
    "dfs[,\"Publications\"]<-str_replace_all(dfs[,\"Publications\"], \"c\",\"\")\n",
    "dfs<- data.frame(dfs, stringsAsFactors=FALSE)"
   ]
  },
  {
   "cell_type": "code",
   "execution_count": 34,
   "metadata": {
    "collapsed": false
   },
   "outputs": [
    {
     "data": {
      "text/html": [
       "<table>\n",
       "<thead><tr><th scope=col>Subject</th><th scope=col>Predicate</th><th scope=col>Object</th><th scope=col>Publications</th><th scope=col>Score</th></tr></thead>\n",
       "<tbody>\n",
       "\t<tr><td>7190948  </td><td>10773543 </td><td>5900394  </td><td>232226800</td><td>17       </td></tr>\n",
       "\t<tr><td>5900394  </td><td>10773540 </td><td>5900965  </td><td>214510142</td><td>10       </td></tr>\n",
       "\t<tr><td>3942413  </td><td>10773605 </td><td>5062125  </td><td>232227983</td><td>10       </td></tr>\n",
       "\t<tr><td>5062125  </td><td>10773543 </td><td>5900965  </td><td>184887463</td><td>17       </td></tr>\n",
       "\t<tr><td>3937158  </td><td>10773543 </td><td>5900772  </td><td>182649453</td><td>10       </td></tr>\n",
       "\t<tr><td>5900772  </td><td>10773540 </td><td>5900965  </td><td>182653832</td><td>10       </td></tr>\n",
       "</tbody>\n",
       "</table>\n"
      ],
      "text/latex": [
       "\\begin{tabular}{r|lllll}\n",
       " Subject & Predicate & Object & Publications & Score\\\\\n",
       "\\hline\n",
       "\t 7190948   & 10773543  & 5900394   & 232226800 & 17       \\\\\n",
       "\t 5900394   & 10773540  & 5900965   & 214510142 & 10       \\\\\n",
       "\t 3942413   & 10773605  & 5062125   & 232227983 & 10       \\\\\n",
       "\t 5062125   & 10773543  & 5900965   & 184887463 & 17       \\\\\n",
       "\t 3937158   & 10773543  & 5900772   & 182649453 & 10       \\\\\n",
       "\t 5900772   & 10773540  & 5900965   & 182653832 & 10       \\\\\n",
       "\\end{tabular}\n"
      ],
      "text/markdown": [
       "\n",
       "Subject | Predicate | Object | Publications | Score | \n",
       "|---|---|---|---|---|---|\n",
       "| 7190948   | 10773543  | 5900394   | 232226800 | 17        | \n",
       "| 5900394   | 10773540  | 5900965   | 214510142 | 10        | \n",
       "| 3942413   | 10773605  | 5062125   | 232227983 | 10        | \n",
       "| 5062125   | 10773543  | 5900965   | 184887463 | 17        | \n",
       "| 3937158   | 10773543  | 5900772   | 182649453 | 10        | \n",
       "| 5900772   | 10773540  | 5900965   | 182653832 | 10        | \n",
       "\n",
       "\n"
      ],
      "text/plain": [
       "  Subject Predicate Object  Publications Score\n",
       "1 7190948 10773543  5900394 232226800    17   \n",
       "2 5900394 10773540  5900965 214510142    10   \n",
       "3 3942413 10773605  5062125 232227983    10   \n",
       "4 5062125 10773543  5900965 184887463    17   \n",
       "5 3937158 10773543  5900772 182649453    10   \n",
       "6 5900772 10773540  5900965 182653832    10   "
      ]
     },
     "metadata": {},
     "output_type": "display_data"
    }
   ],
   "source": [
    "head(dfs)"
   ]
  },
  {
   "cell_type": "markdown",
   "metadata": {},
   "source": [
    "### Step 4: Map human redable triples from the reference database \n",
    "### reference list is collected from EKP"
   ]
  },
  {
   "cell_type": "code",
   "execution_count": null,
   "metadata": {
    "collapsed": true
   },
   "outputs": [],
   "source": [
    "pred<-read.csv(\"Reference_Predicate_List.csv\",header=TRUE)\n",
    "pred<-pred[,c(2,3)]\n",
    "colnames(pred)<-c(\"pred\",\"names\")\n",
    "\n",
    "\n",
    "subject_name<-getConceptName(dfs[,\"Subject\"])\n",
    "dfs<-cbind(dfs,subject_name[,1])\n",
    "\n",
    "object_name<-getConceptName(dfs[,\"Object\"])\n",
    "dfs<-cbind(dfs,object_name[,1])\n",
    "\n",
    "predicate_name<-sqldf('select * from dfs left join pred on pred.pred=dfs.Predicate')\n",
    "\n",
    "pbs<-getPubMedId(dfs$Publications)\n",
    "\n",
    "tripleName<-cbind(subject_name,as.character(predicate_name[,\"names\"]),object_name,pbs,dfs[,\"Score\"])\n",
    "colnames(tripleName)<-c(\"Subject\",\"Predicate\",\"Object\",\"Provenance\",\"Score\")\n",
    "\n",
    "write.table(tripleName,file=\"~/ODEX4all-UseCases/Bayer/data/Results_TO:0000396_TO:0002759_TO:0000447_TO:0000590_TO:0000382_TO:0000397_TO:0000734_TO:0000402.csv\",sep=\",\",row.names = FALSE)\n"
   ]
  }
 ],
 "metadata": {
  "kernelspec": {
   "display_name": "R",
   "language": "R",
   "name": "ir"
  },
  "language_info": {
   "codemirror_mode": "r",
   "file_extension": ".r",
   "mimetype": "text/x-r-source",
   "name": "R",
   "pygments_lexer": "r",
   "version": "3.3.2"
  }
 },
 "nbformat": 4,
 "nbformat_minor": 2
}
