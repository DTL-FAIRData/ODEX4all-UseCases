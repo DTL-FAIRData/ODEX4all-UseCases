{
 "cells": [
  {
   "cell_type": "markdown",
   "metadata": {},
   "source": [
    "## Objective: To identify genotype-phenotype trait association in yeast\n",
    "### Develop a workflow to identify genes indirectly associated with a certain yeast phenotype (butanol tolerance) using EKP and visualize them in an interactive knowledge graph."
   ]
  },
  {
   "cell_type": "code",
   "execution_count": 3,
   "metadata": {
    "collapsed": false
   },
   "outputs": [],
   "source": [
    "library(dplyr)\n",
    "library(tidyr)\n",
    "library(sqldf)\n",
    "library(splitstackshape)\n",
    "library(stringr)\n",
    "library(compare)\n"
   ]
  },
  {
   "cell_type": "markdown",
   "metadata": {},
   "source": [
    "#### load EKP API"
   ]
  },
  {
   "cell_type": "code",
   "execution_count": 4,
   "metadata": {
    "collapsed": false
   },
   "outputs": [
    {
     "name": "stdout",
     "output_type": "stream",
     "text": [
      "\n"
     ]
    },
    {
     "name": "stderr",
     "output_type": "stream",
     "text": [
      "Retrieving page 0\n",
      "Retrieving page 1\n",
      "Retrieving page 2\n",
      "Retrieving page 3\n",
      "Retrieving page 4\n",
      "Retrieving page 5\n",
      "Retrieving page 6\n",
      "Retrieving page 7\n",
      "Retrieving page 8\n",
      "Retrieving page 9\n",
      "Retrieving page 10\n",
      "Retrieving page 11\n"
     ]
    }
   ],
   "source": [
    "source(\"..//src/EuretosInfrastructure.R\")"
   ]
  },
  {
   "cell_type": "code",
   "execution_count": 5,
   "metadata": {
    "collapsed": true
   },
   "outputs": [],
   "source": [
    "#### qtaro.abr.affrc.go.jp/qtab/table\n",
    "setwd(\"~/odex4all_usecases/ODEX4all-UseCases/Bayer/data\")"
   ]
  },
  {
   "cell_type": "markdown",
   "metadata": {},
   "source": [
    "#### Data downloaded from QTARO database located at #### qtaro.abr.affrc.go.jp/qtab/table\n",
    "#### This file can be changed to other gene symbols !"
   ]
  },
  {
   "cell_type": "code",
   "execution_count": 6,
   "metadata": {
    "collapsed": true
   },
   "outputs": [],
   "source": [
    "rice_genes <-read.csv(\"GeneInformationTable_Qtaro.csv\",header=TRUE)"
   ]
  },
  {
   "cell_type": "markdown",
   "metadata": {},
   "source": [
    "#### Select only morphological trait as these are associated with concept ids are dynamic (snapsnot date: 08-05-2017)\n",
    "#### \"grain size\" (EKP concept id : 5899980)\n",
    "#### \"grain thickness\" (EKP concept id  :5900661)\n",
    "#### \"grain number\" (EKP concept id (rice specific) :4343608)\n",
    "#### \"kernel number\" (EKP concept id:5900190)\n",
    "#### \"GRNB\" (EKP concept:5900394)\n",
    "#### \"fruit number\" (EKP concept:5900077)\n",
    "#### \"grain number per plant\" (EKP concept (exact): 5900828)\n",
    "#### \"GN\" (EKP concept:(vague many hits within EKP))\n",
    "##### Note : Traits listed above were not specific within EKP for prototype Gene Number is considered here. It is not however restricted to this trait alone ! "
   ]
  },
  {
   "cell_type": "code",
   "execution_count": 8,
   "metadata": {
    "collapsed": true
   },
   "outputs": [],
   "source": [
    "rice_genes <- select(rice_genes,gene_symbol,character_major)  \n",
    "rice_genes<- filter(rice_genes, character_major == \"Morphological trait\")\n",
    "rice_genes<- tolower(as.character(rice_genes[,\"gene_symbol\"]))\n",
    "rice_genes <- unique(rice_genes)\n"
   ]
  },
  {
   "cell_type": "code",
   "execution_count": 9,
   "metadata": {
    "collapsed": false
   },
   "outputs": [
    {
     "data": {
      "text/html": [
       "<ol class=list-inline>\n",
       "\t<li>'ga2ox3'</li>\n",
       "\t<li>'ga2ox9'</li>\n",
       "\t<li>'ga2ox6'</li>\n",
       "\t<li>'sg1'</li>\n",
       "\t<li>'el5'</li>\n",
       "\t<li>'osiaa3'</li>\n",
       "</ol>\n"
      ],
      "text/latex": [
       "\\begin{enumerate*}\n",
       "\\item 'ga2ox3'\n",
       "\\item 'ga2ox9'\n",
       "\\item 'ga2ox6'\n",
       "\\item 'sg1'\n",
       "\\item 'el5'\n",
       "\\item 'osiaa3'\n",
       "\\end{enumerate*}\n"
      ],
      "text/markdown": [
       "1. 'ga2ox3'\n",
       "2. 'ga2ox9'\n",
       "3. 'ga2ox6'\n",
       "4. 'sg1'\n",
       "5. 'el5'\n",
       "6. 'osiaa3'\n",
       "\n",
       "\n"
      ],
      "text/plain": [
       "[1] \"ga2ox3\" \"ga2ox9\" \"ga2ox6\" \"sg1\"    \"el5\"    \"osiaa3\""
      ]
     },
     "metadata": {},
     "output_type": "display_data"
    }
   ],
   "source": [
    "head(rice_genes)"
   ]
  },
  {
   "cell_type": "markdown",
   "metadata": {},
   "source": [
    "## Step 1a : Get the starting concept identifiers"
   ]
  },
  {
   "cell_type": "raw",
   "metadata": {},
   "source": [
    "start<-getConceptID(rice_genes)\n",
    "start<-start[,\"EKP_Concept_Id\"]"
   ]
  },
  {
   "cell_type": "code",
   "execution_count": 27,
   "metadata": {
    "collapsed": false
   },
   "outputs": [
    {
     "data": {
      "text/html": [
       "<ol class=list-inline>\n",
       "\t<li>'3211031'</li>\n",
       "\t<li>'2839279'</li>\n",
       "\t<li>'2312340'</li>\n",
       "\t<li>'3683755'</li>\n",
       "\t<li>'3924961'</li>\n",
       "\t<li>'3914710'</li>\n",
       "</ol>\n"
      ],
      "text/latex": [
       "\\begin{enumerate*}\n",
       "\\item '3211031'\n",
       "\\item '2839279'\n",
       "\\item '2312340'\n",
       "\\item '3683755'\n",
       "\\item '3924961'\n",
       "\\item '3914710'\n",
       "\\end{enumerate*}\n"
      ],
      "text/markdown": [
       "1. '3211031'\n",
       "2. '2839279'\n",
       "3. '2312340'\n",
       "4. '3683755'\n",
       "5. '3924961'\n",
       "6. '3914710'\n",
       "\n",
       "\n"
      ],
      "text/plain": [
       "[1] \"3211031\" \"2839279\" \"2312340\" \"3683755\" \"3924961\" \"3914710\""
      ]
     },
     "metadata": {},
     "output_type": "display_data"
    }
   ],
   "source": [
    "head(start)"
   ]
  },
  {
   "cell_type": "markdown",
   "metadata": {},
   "source": [
    "\n",
    "## Step 1b: Get the ending concept identifiers for \"Grain Number\""
   ]
  },
  {
   "cell_type": "code",
   "execution_count": 11,
   "metadata": {
    "collapsed": false
   },
   "outputs": [
    {
     "name": "stdout",
     "output_type": "stream",
     "text": [
      "\n"
     ]
    }
   ],
   "source": [
    "end <- unlist(getTraitEKPID())\n",
    "end<-end[\"content.id\"] #EKP ID of Grain Number\n"
   ]
  },
  {
   "cell_type": "markdown",
   "metadata": {},
   "source": [
    "## Step 2: Get Indirect relationships between \"rice genes\"(start) and \"grain number\"(end)"
   ]
  },
  {
   "cell_type": "code",
   "execution_count": null,
   "metadata": {
    "collapsed": true
   },
   "outputs": [],
   "source": [
    "genes2GrainNumber<-getIndirectRelation(start,end)\n",
    "save(genes2GrainNumber, file = \"genes2GrainNumber.rda\")\n"
   ]
  },
  {
   "cell_type": "markdown",
   "metadata": {},
   "source": [
    "\n",
    "#### load the file from the disk\n"
   ]
  },
  {
   "cell_type": "code",
   "execution_count": 12,
   "metadata": {
    "collapsed": true
   },
   "outputs": [],
   "source": [
    "load(\"genes2GrainNumber.rda\")\n"
   ]
  },
  {
   "cell_type": "markdown",
   "metadata": {},
   "source": [
    "### Formatting and data cleaning"
   ]
  },
  {
   "cell_type": "code",
   "execution_count": 29,
   "metadata": {
    "collapsed": false
   },
   "outputs": [],
   "source": [
    "dfs<-as.matrix(getTableFromJson(genes2GrainNumber))\n",
    "dfs[,\"Predicate\"]<-str_replace_all(dfs[,\"Predicate\"], \"[^[:alnum:]]\",\"\")\n",
    "dfs[,\"Predicate\"]<-str_replace_all(dfs[,\"Predicate\"], \"c\",\"\")\n",
    "dfs[,\"Publications\"]<-str_replace_all(dfs[,\"Publications\"], \"[^[:alnum:]]\",\"\")\n",
    "dfs[,\"Publications\"]<-str_replace_all(dfs[,\"Publications\"], \"c\",\"\")\n",
    "dfs<- data.frame(dfs, stringsAsFactors=FALSE)\n",
    "options(warn=-1)"
   ]
  },
  {
   "cell_type": "markdown",
   "metadata": {},
   "source": [
    "### Step 3: Map human redable triples from the reference database \n",
    "### reference list is collected from EKP"
   ]
  },
  {
   "cell_type": "code",
   "execution_count": 14,
   "metadata": {
    "collapsed": true
   },
   "outputs": [],
   "source": [
    "pred<-read.csv(\"Reference_Predicate_List.csv\",header=TRUE)\n",
    "pred<-pred[,c(2,3)]\n",
    "colnames(pred)<-c(\"pred\",\"names\")\n"
   ]
  },
  {
   "cell_type": "code",
   "execution_count": 16,
   "metadata": {
    "collapsed": false
   },
   "outputs": [
    {
     "data": {
      "text/html": [
       "<table>\n",
       "<thead><tr><th scope=col>pred</th><th scope=col>names</th></tr></thead>\n",
       "<tbody>\n",
       "\t<tr><td>10773733                                             </td><td>gene product does not have associated anatomy        </td></tr>\n",
       "\t<tr><td>10773734                                             </td><td>gene product is not element in pathway               </td></tr>\n",
       "\t<tr><td>10773735                                             </td><td>gene product malfunction is not associated with      </td></tr>\n",
       "\t<tr><td>10773736                                             </td><td>gene product does not play role in biological process</td></tr>\n",
       "\t<tr><td>10773737                                             </td><td>gene product does not have biochemical function      </td></tr>\n",
       "\t<tr><td>10773738                                             </td><td>gene product is not biomarker type                   </td></tr>\n",
       "</tbody>\n",
       "</table>\n"
      ],
      "text/latex": [
       "\\begin{tabular}{r|ll}\n",
       " pred & names\\\\\n",
       "\\hline\n",
       "\t 10773733                                              & gene product does not have associated anatomy        \\\\\n",
       "\t 10773734                                              & gene product is not element in pathway               \\\\\n",
       "\t 10773735                                              & gene product malfunction is not associated with      \\\\\n",
       "\t 10773736                                              & gene product does not play role in biological process\\\\\n",
       "\t 10773737                                              & gene product does not have biochemical function      \\\\\n",
       "\t 10773738                                              & gene product is not biomarker type                   \\\\\n",
       "\\end{tabular}\n"
      ],
      "text/markdown": [
       "\n",
       "pred | names | \n",
       "|---|---|---|---|---|---|\n",
       "| 10773733                                              | gene product does not have associated anatomy         | \n",
       "| 10773734                                              | gene product is not element in pathway                | \n",
       "| 10773735                                              | gene product malfunction is not associated with       | \n",
       "| 10773736                                              | gene product does not play role in biological process | \n",
       "| 10773737                                              | gene product does not have biochemical function       | \n",
       "| 10773738                                              | gene product is not biomarker type                    | \n",
       "\n",
       "\n"
      ],
      "text/plain": [
       "  pred     names                                                \n",
       "1 10773733 gene product does not have associated anatomy        \n",
       "2 10773734 gene product is not element in pathway               \n",
       "3 10773735 gene product malfunction is not associated with      \n",
       "4 10773736 gene product does not play role in biological process\n",
       "5 10773737 gene product does not have biochemical function      \n",
       "6 10773738 gene product is not biomarker type                   "
      ]
     },
     "metadata": {},
     "output_type": "display_data"
    }
   ],
   "source": [
    "head(pred)"
   ]
  },
  {
   "cell_type": "markdown",
   "metadata": {},
   "source": [
    "### Step 4: Generate output in the form of triples"
   ]
  },
  {
   "cell_type": "raw",
   "metadata": {},
   "source": [
    "subject_name<-getConceptName(dfs[,\"Subject\"])\n",
    "dfs<-cbind(dfs,subject_name[,2])\n"
   ]
  },
  {
   "cell_type": "raw",
   "metadata": {},
   "source": [
    "object_name<-getConceptName(dfs[,\"Object\"])\n",
    "dfs<-cbind(dfs,object_name[,2])\n"
   ]
  },
  {
   "cell_type": "code",
   "execution_count": 33,
   "metadata": {
    "collapsed": true
   },
   "outputs": [],
   "source": [
    "predicate_name<-sqldf('select * from dfs left join pred on pred.pred=dfs.Predicate')"
   ]
  },
  {
   "cell_type": "raw",
   "metadata": {},
   "source": [
    "pbs<-getPubMedId(dfs$Publications)"
   ]
  },
  {
   "cell_type": "code",
   "execution_count": 35,
   "metadata": {
    "collapsed": true
   },
   "outputs": [],
   "source": [
    "tripleName<-cbind(subject_name[,\"name\"],as.character(predicate_name[,\"names\"]),object_name[,\"name\"],dfs[,\"Publications\"],dfs[,\"Score\"])"
   ]
  },
  {
   "cell_type": "code",
   "execution_count": 36,
   "metadata": {
    "collapsed": true
   },
   "outputs": [],
   "source": [
    "colnames(tripleName)<-c(\"Subject\",\"Predicate\",\"Object\",\"Provenance\",\"Score\")"
   ]
  },
  {
   "cell_type": "code",
   "execution_count": 18,
   "metadata": {
    "collapsed": false
   },
   "outputs": [
    {
     "data": {
      "text/html": [
       "<ol class=list-inline>\n",
       "\t<li>'loc9271572 (oryza sativa japonica)'</li>\n",
       "\t<li>'multicellular organismal development'</li>\n",
       "\t<li>'oryza sativa'</li>\n",
       "\t<li>'flavoproteins'</li>\n",
       "\t<li>'oryza sativa'</li>\n",
       "\t<li>'glycoproteins'</li>\n",
       "</ol>\n"
      ],
      "text/latex": [
       "\\begin{enumerate*}\n",
       "\\item 'loc9271572 (oryza sativa japonica)'\n",
       "\\item 'multicellular organismal development'\n",
       "\\item 'oryza sativa'\n",
       "\\item 'flavoproteins'\n",
       "\\item 'oryza sativa'\n",
       "\\item 'glycoproteins'\n",
       "\\end{enumerate*}\n"
      ],
      "text/markdown": [
       "1. 'loc9271572 (oryza sativa japonica)'\n",
       "2. 'multicellular organismal development'\n",
       "3. 'oryza sativa'\n",
       "4. 'flavoproteins'\n",
       "5. 'oryza sativa'\n",
       "6. 'glycoproteins'\n",
       "\n",
       "\n"
      ],
      "text/plain": [
       "[1] \"loc9271572 (oryza sativa japonica)\"  \n",
       "[2] \"multicellular organismal development\"\n",
       "[3] \"oryza sativa\"                        \n",
       "[4] \"flavoproteins\"                       \n",
       "[5] \"oryza sativa\"                        \n",
       "[6] \"glycoproteins\"                       "
      ]
     },
     "metadata": {},
     "output_type": "display_data"
    }
   ],
   "source": [
    "head(tripleName[,\"Subject\"])\n"
   ]
  },
  {
   "cell_type": "code",
   "execution_count": 19,
   "metadata": {
    "collapsed": false
   },
   "outputs": [
    {
     "data": {
      "text/html": [
       "<ol class=list-inline>\n",
       "\t<li>'performs'</li>\n",
       "\t<li>'gene product has function'</li>\n",
       "\t<li>'is location of'</li>\n",
       "\t<li>'interacts with'</li>\n",
       "\t<li>'is location of'</li>\n",
       "\t<li>'is modified by'</li>\n",
       "</ol>\n"
      ],
      "text/latex": [
       "\\begin{enumerate*}\n",
       "\\item 'performs'\n",
       "\\item 'gene product has function'\n",
       "\\item 'is location of'\n",
       "\\item 'interacts with'\n",
       "\\item 'is location of'\n",
       "\\item 'is modified by'\n",
       "\\end{enumerate*}\n"
      ],
      "text/markdown": [
       "1. 'performs'\n",
       "2. 'gene product has function'\n",
       "3. 'is location of'\n",
       "4. 'interacts with'\n",
       "5. 'is location of'\n",
       "6. 'is modified by'\n",
       "\n",
       "\n"
      ],
      "text/plain": [
       "[1] \"performs\"                  \"gene product has function\"\n",
       "[3] \"is location of\"            \"interacts with\"           \n",
       "[5] \"is location of\"            \"is modified by\"           "
      ]
     },
     "metadata": {},
     "output_type": "display_data"
    }
   ],
   "source": [
    "head(tripleName[,\"Predicate\"])"
   ]
  },
  {
   "cell_type": "code",
   "execution_count": 20,
   "metadata": {
    "collapsed": false
   },
   "outputs": [
    {
     "data": {
      "text/html": [
       "<ol class=list-inline>\n",
       "\t<li>'multicellular organismal development'</li>\n",
       "\t<li>'cytokinin dehydrogenase 2 (oryza sativa subsp. japonica)'</li>\n",
       "\t<li>'flavoproteins'</li>\n",
       "\t<li>'cytokinin dehydrogenase 2 (oryza sativa subsp. japonica)'</li>\n",
       "\t<li>'glycoproteins'</li>\n",
       "\t<li>'cytokinin dehydrogenase 2 (oryza sativa subsp. japonica)'</li>\n",
       "</ol>\n"
      ],
      "text/latex": [
       "\\begin{enumerate*}\n",
       "\\item 'multicellular organismal development'\n",
       "\\item 'cytokinin dehydrogenase 2 (oryza sativa subsp. japonica)'\n",
       "\\item 'flavoproteins'\n",
       "\\item 'cytokinin dehydrogenase 2 (oryza sativa subsp. japonica)'\n",
       "\\item 'glycoproteins'\n",
       "\\item 'cytokinin dehydrogenase 2 (oryza sativa subsp. japonica)'\n",
       "\\end{enumerate*}\n"
      ],
      "text/markdown": [
       "1. 'multicellular organismal development'\n",
       "2. 'cytokinin dehydrogenase 2 (oryza sativa subsp. japonica)'\n",
       "3. 'flavoproteins'\n",
       "4. 'cytokinin dehydrogenase 2 (oryza sativa subsp. japonica)'\n",
       "5. 'glycoproteins'\n",
       "6. 'cytokinin dehydrogenase 2 (oryza sativa subsp. japonica)'\n",
       "\n",
       "\n"
      ],
      "text/plain": [
       "[1] \"multicellular organismal development\"                    \n",
       "[2] \"cytokinin dehydrogenase 2 (oryza sativa subsp. japonica)\"\n",
       "[3] \"flavoproteins\"                                           \n",
       "[4] \"cytokinin dehydrogenase 2 (oryza sativa subsp. japonica)\"\n",
       "[5] \"glycoproteins\"                                           \n",
       "[6] \"cytokinin dehydrogenase 2 (oryza sativa subsp. japonica)\""
      ]
     },
     "metadata": {},
     "output_type": "display_data"
    }
   ],
   "source": [
    "head(tripleName[,\"Object\"])"
   ]
  },
  {
   "cell_type": "code",
   "execution_count": 25,
   "metadata": {
    "collapsed": false
   },
   "outputs": [
    {
     "data": {
      "text/html": [
       "<ol class=list-inline>\n",
       "\t<li>'11.1745'</li>\n",
       "\t<li>'12.7123'</li>\n",
       "\t<li>'13.8367'</li>\n",
       "\t<li>'11.3964'</li>\n",
       "\t<li>'11.582'</li>\n",
       "\t<li>'11.4796'</li>\n",
       "</ol>\n"
      ],
      "text/latex": [
       "\\begin{enumerate*}\n",
       "\\item '11.1745'\n",
       "\\item '12.7123'\n",
       "\\item '13.8367'\n",
       "\\item '11.3964'\n",
       "\\item '11.582'\n",
       "\\item '11.4796'\n",
       "\\end{enumerate*}\n"
      ],
      "text/markdown": [
       "1. '11.1745'\n",
       "2. '12.7123'\n",
       "3. '13.8367'\n",
       "4. '11.3964'\n",
       "5. '11.582'\n",
       "6. '11.4796'\n",
       "\n",
       "\n"
      ],
      "text/plain": [
       "[1] \"11.1745\" \"12.7123\" \"13.8367\" \"11.3964\" \"11.582\"  \"11.4796\""
      ]
     },
     "metadata": {},
     "output_type": "display_data"
    }
   ],
   "source": [
    "head(tripleName[,\"Score\"])\n"
   ]
  },
  {
   "cell_type": "markdown",
   "metadata": {},
   "source": [
    "### Step 5: Write output to a file"
   ]
  },
  {
   "cell_type": "code",
   "execution_count": 22,
   "metadata": {
    "collapsed": true
   },
   "outputs": [],
   "source": [
    "write.table(tripleName,file=\"~/odex4all_usecases/ODEX4all-UseCases/Bayer/src/ConceptsRelatedGrainNumberTriples.csv\",sep=\",\",row.names = FALSE)"
   ]
  },
  {
   "cell_type": "code",
   "execution_count": null,
   "metadata": {
    "collapsed": true
   },
   "outputs": [],
   "source": []
  }
 ],
 "metadata": {
  "kernelspec": {
   "display_name": "R",
   "language": "R",
   "name": "ir"
  },
  "language_info": {
   "codemirror_mode": "r",
   "file_extension": ".r",
   "mimetype": "text/x-r-source",
   "name": "R",
   "pygments_lexer": "r",
   "version": "3.3.2"
  }
 },
 "nbformat": 4,
 "nbformat_minor": 2
}
